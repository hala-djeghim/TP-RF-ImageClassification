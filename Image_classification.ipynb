{
  "cells": [
    {
      "cell_type": "markdown",
      "metadata": {
        "id": "Wt3Oj5cp87ZU"
      },
      "source": [
        "# Question 1 : varier le nombre d'epochs"
      ]
    },
    {
      "cell_type": "code",
      "execution_count": 1,
      "metadata": {
        "id": "-AvP6SJA8_Y3"
      },
      "outputs": [],
      "source": [
        "import torch\n",
        "import torchvision\n",
        "import torchvision.transforms as transforms"
      ]
    },
    {
      "cell_type": "code",
      "execution_count": null,
      "metadata": {
        "colab": {
          "base_uri": "https://localhost:8080/"
        },
        "id": "ZZI2l8X49Hwb",
        "outputId": "778e306c-f91e-4121-f9d2-35739a516c8f"
      },
      "outputs": [
        {
          "name": "stdout",
          "output_type": "stream",
          "text": [
            "Files already downloaded and verified\n",
            "Files already downloaded and verified\n"
          ]
        }
      ],
      "source": [
        "transform = transforms.Compose(\n",
        "    [transforms.ToTensor(),\n",
        "     transforms.Normalize((0.5, 0.5, 0.5), (0.5, 0.5, 0.5))]\n",
        ")\n",
        "\n",
        "\n",
        "##########################################################################\n",
        "#    Chargement/telechargement de la base de TRAIN de CIFARE10           #\n",
        "##########################################################################\n",
        "\n",
        "trainset = torchvision.datasets.CIFAR10(root='./data', train=True, download=True, transform=transform)\n",
        "\n",
        "##########################################################################\n",
        "#    Chargement/telechargement de la base de TEST de CIFARE10            #\n",
        "##########################################################################\n",
        "\n",
        "testset = torchvision.datasets.CIFAR10(root='./data', train=False, download=True, transform=transform)\n",
        "\n",
        "##########################################################################\n",
        "#   Definition du module pour parcourir les donnees                      #\n",
        "# Paramètres:                                                            #\n",
        "#       - Batchsize (nb d'images qui passent en une fois avant retropropagation)#\n",
        "#       - shuffle (ordre de passage aléatoire des images) :              #\n",
        "#                   Vrai      ---> lors de l'entraînement                #\n",
        "#                   Faux/Vrai ---> lors du test                          #\n",
        "#                                                                        #\n",
        "# * On va creer 2 modules : un pour le TRAIN et un pour le TEST          #\n",
        "##########################################################################\n",
        "\n",
        "trainloader = torch.utils.data.DataLoader(trainset, batch_size=16, shuffle=True, num_workers=2)\n",
        "testloader = torch.utils.data.DataLoader(testset, batch_size=16, shuffle=False, num_workers=2)\n",
        "\n",
        "classes = ['plane', 'car', 'bird', 'cat', 'deer', 'dog', 'frog', 'horse', 'ship', 'truck']"
      ]
    },
    {
      "cell_type": "code",
      "execution_count": 2,
      "metadata": {
        "colab": {
          "base_uri": "https://localhost:8080/"
        },
        "id": "MFBh8D4p9NQu",
        "outputId": "87244f6d-5ba3-4e3f-e0cb-c5b94135fbe9"
      },
      "outputs": [
        {
          "output_type": "stream",
          "name": "stdout",
          "text": [
            "cuda:0\n"
          ]
        }
      ],
      "source": [
        "device = torch.device(\"cuda:0\" if torch.cuda.is_available() else \"cpu\")\n",
        "print(device)"
      ]
    },
    {
      "cell_type": "code",
      "execution_count": 3,
      "metadata": {
        "colab": {
          "base_uri": "https://localhost:8080/"
        },
        "id": "axh5oG7s9Qg4",
        "outputId": "dd8d881e-3c5e-4f89-8878-aebe6335444d"
      },
      "outputs": [
        {
          "output_type": "stream",
          "name": "stdout",
          "text": [
            "Net(\n",
            "  (conv1): Conv2d(3, 10, kernel_size=(5, 5), stride=(1, 1))\n",
            "  (pool): MaxPool2d(kernel_size=2, stride=2, padding=0, dilation=1, ceil_mode=False)\n",
            "  (conv2): Conv2d(10, 20, kernel_size=(5, 5), stride=(1, 1))\n",
            "  (fc1): Linear(in_features=500, out_features=120, bias=True)\n",
            "  (fc2): Linear(in_features=120, out_features=84, bias=True)\n",
            "  (fc3): Linear(in_features=84, out_features=10, bias=True)\n",
            ")\n"
          ]
        }
      ],
      "source": [
        "import torch.nn as nn\n",
        "import torch.nn.functional as F\n",
        "\n",
        "class Net(nn.Module):\n",
        "    def __init__(self):\n",
        "        super(Net, self).__init__()\n",
        "        self.conv1 = nn.Conv2d(in_channels=3, out_channels=10, kernel_size=5)\n",
        "        self.pool = nn.MaxPool2d(kernel_size=2, stride=2)\n",
        "        self.conv2 = nn.Conv2d(in_channels=10, out_channels=20, kernel_size=5)\n",
        "        self.fc1 = nn.Linear(in_features=20 * 5 * 5, out_features=120)\n",
        "        self.fc2 = nn.Linear(in_features=120, out_features=84)\n",
        "        self.fc3 = nn.Linear(in_features=84, out_features=10)\n",
        "\n",
        "    def forward(self, x):\n",
        "        x = self.pool(F.relu(self.conv1(x)))\n",
        "        x = self.pool(F.relu(self.conv2(x)))\n",
        "        x = x.view(-1, 20 * 5 * 5) #flattening\n",
        "        x = F.relu(self.fc1(x))\n",
        "        x = F.relu(self.fc2(x))\n",
        "        x = self.fc3(x)\n",
        "        return x\n",
        "\n",
        "\n",
        "net = Net().to(device)\n",
        "print(net)"
      ]
    },
    {
      "cell_type": "code",
      "execution_count": 4,
      "metadata": {
        "id": "n14RxmFs9TWx"
      },
      "outputs": [],
      "source": [
        "import torch.optim as optim\n",
        "\n",
        "criterion = nn.CrossEntropyLoss()\n",
        "optimizer = optim.SGD(net.parameters(), lr=0.01, momentum=0.9)"
      ]
    },
    {
      "cell_type": "code",
      "execution_count": null,
      "metadata": {
        "colab": {
          "base_uri": "https://localhost:8080/"
        },
        "id": "Cq-bw5O99XuT",
        "outputId": "b261bd77-9a6b-4e46-ea23-ddc12c4e3ddd"
      },
      "outputs": [
        {
          "name": "stdout",
          "output_type": "stream",
          "text": [
            "Epoch  0 ; train loss =  1.6203198215293884 ; accuracy =  0.5195\n",
            "Epoch  1 ; train loss =  1.3038117825126647 ; accuracy =  0.5517\n",
            "Epoch  2 ; train loss =  1.1919381875133515 ; accuracy =  0.5461\n",
            "Epoch  3 ; train loss =  1.1270770934200287 ; accuracy =  0.5876\n",
            "Epoch  4 ; train loss =  1.0803391752910614 ; accuracy =  0.6026\n",
            "Epoch  5 ; train loss =  1.04900923535347 ; accuracy =  0.5977\n",
            "Epoch  6 ; train loss =  1.013974818239212 ; accuracy =  0.6107\n",
            "Epoch  7 ; train loss =  1.007877198615074 ; accuracy =  0.6023\n",
            "Epoch  8 ; train loss =  0.990158208656311 ; accuracy =  0.6193\n",
            "Epoch  9 ; train loss =  0.9925819343805313 ; accuracy =  0.6201\n",
            "Epoch  10 ; train loss =  0.9762645311975479 ; accuracy =  0.607\n",
            "Epoch  11 ; train loss =  0.9720696322393417 ; accuracy =  0.6128\n",
            "Epoch  12 ; train loss =  0.9657028494071961 ; accuracy =  0.6038\n",
            "Epoch  13 ; train loss =  0.965400047249794 ; accuracy =  0.6138\n",
            "Epoch  14 ; train loss =  0.9685617734909058 ; accuracy =  0.5973\n",
            "Epoch  15 ; train loss =  0.9706072321295738 ; accuracy =  0.6034\n",
            "Epoch  16 ; train loss =  0.9628397644805908 ; accuracy =  0.6075\n",
            "Epoch  17 ; train loss =  0.9714793950462342 ; accuracy =  0.611\n",
            "Epoch  18 ; train loss =  0.969324135298729 ; accuracy =  0.6185\n",
            "Epoch  19 ; train loss =  0.9876055878400802 ; accuracy =  0.6182\n",
            "Epoch  20 ; train loss =  0.9865902715587616 ; accuracy =  0.6015\n",
            "Epoch  21 ; train loss =  0.9779241078972817 ; accuracy =  0.5979\n",
            "Epoch  22 ; train loss =  0.9905614239740371 ; accuracy =  0.596\n",
            "Epoch  23 ; train loss =  0.9933027570867539 ; accuracy =  0.5896\n",
            "Epoch  24 ; train loss =  0.9986140342593193 ; accuracy =  0.6002\n",
            "Epoch  25 ; train loss =  0.9955341365242004 ; accuracy =  0.5814\n",
            "Epoch  26 ; train loss =  1.039127588956356 ; accuracy =  0.5919\n",
            "Epoch  27 ; train loss =  1.0188964779281615 ; accuracy =  0.5909\n",
            "Epoch  28 ; train loss =  1.030821000804901 ; accuracy =  0.5512\n",
            "Epoch  29 ; train loss =  1.0370168748903275 ; accuracy =  0.566\n",
            "Epoch  30 ; train loss =  1.0640315266561509 ; accuracy =  0.5462\n",
            "Epoch  31 ; train loss =  1.093278434419632 ; accuracy =  0.6032\n",
            "Epoch  32 ; train loss =  1.0624046239995957 ; accuracy =  0.5907\n",
            "Epoch  33 ; train loss =  1.0665913475346565 ; accuracy =  0.5731\n",
            "Epoch  34 ; train loss =  1.096322321228981 ; accuracy =  0.5843\n",
            "Epoch  35 ; train loss =  1.1212544409561158 ; accuracy =  0.5793\n",
            "Epoch  36 ; train loss =  1.108109317035675 ; accuracy =  0.5585\n",
            "Epoch  37 ; train loss =  1.1386662165403365 ; accuracy =  0.5706\n",
            "Epoch  38 ; train loss =  1.1677397930431366 ; accuracy =  0.5785\n",
            "Epoch  39 ; train loss =  1.1456302251625061 ; accuracy =  0.5297\n",
            "Epoch  40 ; train loss =  1.1619209872674943 ; accuracy =  0.5587\n",
            "Epoch  41 ; train loss =  1.173157695670128 ; accuracy =  0.5897\n",
            "Epoch  42 ; train loss =  1.2881636644554137 ; accuracy =  0.5486\n",
            "Epoch  43 ; train loss =  1.267059695520401 ; accuracy =  0.5601\n",
            "Epoch  44 ; train loss =  1.436908056459427 ; accuracy =  0.4201\n",
            "Epoch  45 ; train loss =  1.5174973943519592 ; accuracy =  0.4868\n",
            "Epoch  46 ; train loss =  1.6151279816627502 ; accuracy =  0.3957\n",
            "Epoch  47 ; train loss =  1.795577340888977 ; accuracy =  0.3475\n",
            "Epoch  48 ; train loss =  1.7250999042129516 ; accuracy =  0.3571\n",
            "Epoch  49 ; train loss =  1.902518079662323 ; accuracy =  0.1658\n",
            "Finished Training and save the model as `modelNN.pth`\n"
          ]
        }
      ],
      "source": [
        "###############################################\n",
        "#   * Fixer les paramètres de l'entraînement   #\n",
        "###############################################\n",
        "  \n",
        "nb_epoch = 50 # Le nombre d'epoch\n",
        "loss_list = [] # liste qui va contenir la valeur du loss a chaque epoch\n",
        "accuracy_list = []\n",
        "for epoch in range(nb_epoch):  # loop over the dataset multiple times\n",
        "\n",
        "    running_loss = 0.0\n",
        "    nb_data = 0.\n",
        "    for i, data in enumerate(trainloader, 0):\n",
        "        # get the inputs; data is a list of [inputs, labels]\n",
        "        inputs, labels = data\n",
        "        \n",
        "        # zero the parameter gradients\n",
        "        optimizer.zero_grad()\n",
        "\n",
        "        inputs, labels = inputs.to(device), labels.to(device)\n",
        "        \n",
        "\n",
        "        # forward + backward + optimize\n",
        "        outputs = net(inputs)              # Forward\n",
        "        loss = criterion(outputs, labels)\n",
        "        loss.backward()                    # Backward\n",
        "        optimizer.step()                   # optimize\n",
        " \n",
        "        # print statistics\n",
        "        running_loss += loss.item()\n",
        "        \n",
        "        nb_data += 1.\n",
        "        \n",
        "    running_loss = running_loss / nb_data\n",
        "    loss_list.append(running_loss)  \n",
        "    \n",
        "    correct = 0.\n",
        "    total = 0.\n",
        "    with torch.no_grad():\n",
        "        for data in testloader:\n",
        "            images, labels = data\n",
        "            images, labels = images.to(device), labels.to(device)\n",
        "            outputs = net(images)\n",
        "            _, predicted = torch.max(outputs.data, 1)\n",
        "            total += labels.size(0)\n",
        "            correct += (predicted == labels).sum().item()\n",
        "    \n",
        "    accuracy_list.append(correct / total)\n",
        "    \n",
        "    print(\"Epoch \", epoch, \"; train loss = \", running_loss, \"; accuracy = \", correct / total) \n",
        "    \n",
        "torch.save({\n",
        "                'nb_epoch': nb_epoch,\n",
        "                'model' : net.state_dict(),\n",
        "                'listLoss': loss_list,\n",
        "            }, \"modelNN.pth\")\n",
        "\n",
        "print('Finished Training and save the model as `modelNN.pth`')"
      ]
    },
    {
      "cell_type": "code",
      "execution_count": 5,
      "metadata": {
        "id": "f0DA6-5RAgLb"
      },
      "outputs": [],
      "source": [
        "import matplotlib.pyplot as plt\n",
        "import numpy as np"
      ]
    },
    {
      "cell_type": "code",
      "execution_count": null,
      "metadata": {
        "colab": {
          "base_uri": "https://localhost:8080/",
          "height": 295
        },
        "id": "OV-u2ovdATkm",
        "outputId": "2fe825d6-9f21-4b23-8e50-678b806bb86a"
      },
      "outputs": [
        {
          "data": {
            "image/png": "[encoded data removed]",
            "text/plain": [
              "<Figure size 432x288 with 1 Axes>"
            ]
          },
          "metadata": {},
          "output_type": "display_data"
        }
      ],
      "source": [
        "plt.plot()\n",
        "plt.plot(range(len(loss_list)), loss_list)\n",
        "\n",
        "plt.xlabel(\"Epochs\")\n",
        "plt.ylabel(\"Loss\")\n",
        "plt.title(\"loss curve\")\n",
        "\n",
        "\n",
        "\n",
        "\n",
        "\n",
        "plt.show()"
      ]
    },
    {
      "cell_type": "code",
      "execution_count": null,
      "metadata": {
        "colab": {
          "base_uri": "https://localhost:8080/",
          "height": 295
        },
        "id": "Z-qj1-B1Ai8z",
        "outputId": "d8af6004-b980-4cd4-c14d-fb48e3be29ea"
      },
      "outputs": [
        {
          "data": {
            "image/png": "[encoded data removed]",
            "text/plain": [
              "<Figure size 432x288 with 1 Axes>"
            ]
          },
          "metadata": {},
          "output_type": "display_data"
        }
      ],
      "source": [
        "plt.plot()\n",
        "plt.plot(range(len(accuracy_list)), accuracy_list)\n",
        "\n",
        "plt.xlabel(\"Epochs\")\n",
        "plt.ylabel(\"Accuracy\")\n",
        "plt.title(\"accuracy curve\")\n",
        "\n",
        "\n",
        "\n",
        "\n",
        "\n",
        "plt.show()"
      ]
    },
    {
      "cell_type": "code",
      "execution_count": 12,
      "metadata": {
        "id": "FjLdZNu3p1li"
      },
      "outputs": [],
      "source": [
        "def train (model, nb_epoch): \n",
        "    ###############################################\n",
        "  #   * Fixer les paramètres de l'entraînement   #\n",
        "  ###############################################\n",
        "  model.to(device)\n",
        "  criterion = nn.CrossEntropyLoss()\n",
        "  optimizer = optim.SGD(model.parameters(), lr=0.01, momentum=0.9)\n",
        "\n",
        "  loss_list = [] # liste qui va contenir la valeur du loss a chaque epoch\n",
        "  accuracy_list = []\n",
        "  val_loss_list =[]\n",
        "\n",
        "  for epoch in range(nb_epoch):  # loop over the dataset multiple times\n",
        "\n",
        "      running_loss = 0.0\n",
        "      nb_data = 0.\n",
        "      for i, data in enumerate(trainloader, 0):\n",
        "          # get the inputs; data is a list of [inputs, labels]\n",
        "          inputs, labels = data\n",
        "          \n",
        "          # zero the parameter gradients\n",
        "          optimizer.zero_grad()\n",
        "\n",
        "          inputs, labels = inputs.to(device), labels.to(device)\n",
        "          \n",
        "\n",
        "          # forward + backward + optimize\n",
        "          outputs = model(inputs)              # Forward\n",
        "          loss = criterion(outputs, labels)\n",
        "          loss.backward()                    # Backward\n",
        "          optimizer.step()                   # optimize\n",
        "  \n",
        "          # print statistics\n",
        "          running_loss += loss.item()\n",
        "          \n",
        "          nb_data += 1.\n",
        "          \n",
        "      running_loss = running_loss / nb_data\n",
        "      loss_list.append(running_loss)  \n",
        "      \n",
        "      correct = 0.\n",
        "      total = 0.\n",
        "      val_loss =0.\n",
        "      \n",
        "      with torch.no_grad():\n",
        "\n",
        "          for data in valloader:\n",
        "              images, labels = data\n",
        "              images, labels = images.to(device), labels.to(device)\n",
        "              outputs = model(images)\n",
        "              loss = criterion(outputs, labels)\n",
        "              val_loss += loss.item()\n",
        "              _, predicted = torch.max(outputs.data, 1)\n",
        "              total += labels.size(0)\n",
        "              correct += (predicted == labels).sum().item()\n",
        "      \n",
        "      accuracy_list.append(correct / total)\n",
        "      val_loss = val_loss / total\n",
        "      val_loss_list.append(val_loss)\n",
        "\n",
        "      \n",
        "      print(\"Epoch \", epoch, \"; train loss = \", running_loss, \"; validation loss = \", val_loss, \"; accuracy = \", correct / total) \n",
        "      \n",
        "  torch.save({\n",
        "                  'nb_epoch': nb_epoch,\n",
        "                  'model' : net.state_dict(),\n",
        "                  'listLoss': loss_list,\n",
        "              }, \"modelNN.pth\")\n",
        "\n",
        "  print('Finished Training and save the model as `modelNN.pth`')\n",
        "\n",
        "  return loss_list, accuracy_list\n"
      ]
    },
    {
      "cell_type": "markdown",
      "metadata": {
        "id": "VRYcuhr4BGPH"
      },
      "source": [
        "# Question 2 : Validation set"
      ]
    },
    {
      "cell_type": "code",
      "execution_count": 76,
      "metadata": {
        "colab": {
          "base_uri": "https://localhost:8080/"
        },
        "id": "tj_Wtoh_BMuB",
        "outputId": "0f2ea5ca-3e13-495f-ef1c-36bf623f8b9a"
      },
      "outputs": [
        {
          "output_type": "stream",
          "name": "stdout",
          "text": [
            "Files already downloaded and verified\n",
            "Files already downloaded and verified\n"
          ]
        }
      ],
      "source": [
        "from torch.utils.data import random_split\n",
        "transform = transforms.Compose(\n",
        "    [transforms.ToTensor(),\n",
        "     transforms.Normalize([0.485, 0.456, 0.406], [0.229, 0.224, 0.225])]\n",
        ")\n",
        "\n",
        "\n",
        "trainset = torchvision.datasets.CIFAR10(root='./data', train=True, download=True, transform=transform)\n",
        "val_size = len(trainset)*0.2\n",
        "train_size = len(trainset)-val_size\n",
        "val_size, train_size = int(val_size), int(train_size)\n",
        "train_ds, val_ds = random_split(trainset, [train_size, val_size])\n",
        "len(train_ds), len(val_ds)\n",
        "\n",
        "testset = torchvision.datasets.CIFAR10(root='./data', train=False, download=True, transform=transform)\n",
        "\n",
        "trainloader = torch.utils.data.DataLoader(train_ds, batch_size=128, shuffle=True, num_workers=2)\n",
        "valloader = torch.utils.data.DataLoader(val_ds, batch_size=128, shuffle=True, num_workers=2)\n",
        "testloader = torch.utils.data.DataLoader(testset, batch_size=128, shuffle=False, num_workers=2)"
      ]
    },
    {
      "cell_type": "code",
      "execution_count": 77,
      "metadata": {
        "colab": {
          "base_uri": "https://localhost:8080/"
        },
        "id": "f7ZmTfiCBPlR",
        "outputId": "2b175d68-4475-4c95-d501-4c6e62d43104"
      },
      "outputs": [
        {
          "output_type": "stream",
          "name": "stdout",
          "text": [
            "Files already downloaded and verified\n"
          ]
        }
      ],
      "source": [
        "\n",
        "testset = torchvision.datasets.CIFAR10(root='./data', train=False, download=True, transform=transform)"
      ]
    },
    {
      "cell_type": "code",
      "execution_count": 78,
      "metadata": {
        "id": "2LCB-VvyBR38"
      },
      "outputs": [],
      "source": [
        "\n",
        "trainloader = torch.utils.data.DataLoader(train_ds, batch_size=16, shuffle=True, num_workers=2)\n",
        "valloader = torch.utils.data.DataLoader(val_ds, batch_size=16, shuffle=True, num_workers=2)\n",
        "testloader = torch.utils.data.DataLoader(testset, batch_size=16, shuffle=False, num_workers=2)"
      ]
    },
    {
      "cell_type": "code",
      "execution_count": null,
      "metadata": {
        "colab": {
          "base_uri": "https://localhost:8080/"
        },
        "id": "KMYsdYWeBaDt",
        "outputId": "9014db7a-5d1d-45b3-a09c-0f17e176a371"
      },
      "outputs": [
        {
          "name": "stdout",
          "output_type": "stream",
          "text": [
            "Epoch  0 ; train loss =  1.659658457326889 ; validation loss =  0.09307165932655334 ; accuracy =  0.4503\n",
            "Epoch  1 ; train loss =  1.3420039499998093 ; validation loss =  0.0836606860935688 ; accuracy =  0.5307\n",
            "Epoch  2 ; train loss =  1.2399862669229507 ; validation loss =  0.07770863222777843 ; accuracy =  0.5643\n",
            "Epoch  3 ; train loss =  1.1596863475680352 ; validation loss =  0.07877946285009384 ; accuracy =  0.5655\n",
            "Epoch  4 ; train loss =  1.1014045039892197 ; validation loss =  0.07477419158816337 ; accuracy =  0.5885\n",
            "Epoch  5 ; train loss =  1.0718161629199983 ; validation loss =  0.07872342518866063 ; accuracy =  0.5788\n",
            "Epoch  6 ; train loss =  1.0461265175580978 ; validation loss =  0.07616299569010734 ; accuracy =  0.5931\n",
            "Epoch  7 ; train loss =  1.0157303484678268 ; validation loss =  0.07601223241984845 ; accuracy =  0.6024\n",
            "Epoch  8 ; train loss =  1.0129699659854174 ; validation loss =  0.08533803769946098 ; accuracy =  0.5539\n",
            "Epoch  9 ; train loss =  0.9974765964329243 ; validation loss =  0.08138220549821854 ; accuracy =  0.5927\n",
            "Epoch  10 ; train loss =  0.9751754836201668 ; validation loss =  0.08085291777849198 ; accuracy =  0.5917\n",
            "Epoch  11 ; train loss =  0.972064970254898 ; validation loss =  0.08142171080112458 ; accuracy =  0.5888\n",
            "Epoch  12 ; train loss =  0.9710807845830918 ; validation loss =  0.08292465832531452 ; accuracy =  0.5834\n",
            "Epoch  13 ; train loss =  0.9787346611559391 ; validation loss =  0.08350478731393814 ; accuracy =  0.5869\n",
            "Epoch  14 ; train loss =  0.9572912043333054 ; validation loss =  0.08627371454536915 ; accuracy =  0.5785\n",
            "Epoch  15 ; train loss =  0.9608084723472595 ; validation loss =  0.08485766426324845 ; accuracy =  0.5826\n",
            "Epoch  16 ; train loss =  0.9464990846514701 ; validation loss =  0.09406442554891109 ; accuracy =  0.5833\n",
            "Epoch  17 ; train loss =  0.9605055048584938 ; validation loss =  0.08963949921131134 ; accuracy =  0.6026\n",
            "Epoch  18 ; train loss =  0.9702104654997588 ; validation loss =  0.09078568316400051 ; accuracy =  0.5892\n",
            "Epoch  19 ; train loss =  0.9719500597059727 ; validation loss =  0.09043679971694946 ; accuracy =  0.5645\n",
            "Epoch  20 ; train loss =  0.985839102897048 ; validation loss =  0.08861561299264431 ; accuracy =  0.5907\n",
            "Epoch  21 ; train loss =  0.9958666124880314 ; validation loss =  0.09412874039411545 ; accuracy =  0.5724\n",
            "Epoch  22 ; train loss =  1.005097889637947 ; validation loss =  0.09763189740777016 ; accuracy =  0.5567\n",
            "Epoch  23 ; train loss =  0.9873541225314141 ; validation loss =  0.09455049024820328 ; accuracy =  0.5944\n",
            "Epoch  24 ; train loss =  0.998828960454464 ; validation loss =  0.09577273932248354 ; accuracy =  0.5752\n",
            "Epoch  25 ; train loss =  0.992738675352931 ; validation loss =  0.09789581851959228 ; accuracy =  0.563\n",
            "Epoch  26 ; train loss =  1.0058888379275799 ; validation loss =  0.0948106252014637 ; accuracy =  0.5708\n",
            "Epoch  27 ; train loss =  1.0128461609303951 ; validation loss =  0.10208313866853715 ; accuracy =  0.5755\n",
            "Epoch  28 ; train loss =  1.025506480795145 ; validation loss =  0.10498646905422211 ; accuracy =  0.5526\n",
            "Epoch  29 ; train loss =  1.0493615211427212 ; validation loss =  0.10519087623655796 ; accuracy =  0.5427\n",
            "Finished Training and save the model as `modelNN.pth`\n"
          ]
        }
      ],
      "source": [
        "###############################################\n",
        "#   * Fixer les paramètres de l'entraînement   #\n",
        "###############################################\n",
        "net = Net().to(device)\n",
        "criterion = nn.CrossEntropyLoss()\n",
        "optimizer = optim.SGD(net.parameters(), lr=0.01, momentum=0.9)\n",
        "nb_epoch = 30 # Le nombre d'epoch\n",
        "loss_list = [] # liste qui va contenir la valeur du loss a chaque epoch\n",
        "accuracy_list = []\n",
        "val_loss_list =[]\n",
        "for epoch in range(nb_epoch):  # loop over the dataset multiple times\n",
        "\n",
        "    running_loss = 0.0\n",
        "    nb_data = 0.\n",
        "    for i, data in enumerate(trainloader, 0):\n",
        "        # get the inputs; data is a list of [inputs, labels]\n",
        "        inputs, labels = data\n",
        "        \n",
        "        # zero the parameter gradients\n",
        "        optimizer.zero_grad()\n",
        "\n",
        "        inputs, labels = inputs.to(device), labels.to(device)\n",
        "        \n",
        "\n",
        "        # forward + backward + optimize\n",
        "        outputs = net(inputs)              # Forward\n",
        "        loss = criterion(outputs, labels)\n",
        "        loss.backward()                    # Backward\n",
        "        optimizer.step()                   # optimize\n",
        " \n",
        "        # print statistics\n",
        "        running_loss += loss.item()\n",
        "        \n",
        "        nb_data += 1.\n",
        "        \n",
        "    running_loss = running_loss / nb_data\n",
        "    loss_list.append(running_loss)  \n",
        "    \n",
        "    correct = 0.\n",
        "    total = 0.\n",
        "    val_loss =0.\n",
        "    with torch.no_grad():\n",
        "        for data in valloader:\n",
        "            images, labels = data\n",
        "            images, labels = images.to(device), labels.to(device)\n",
        "            outputs = net(images)\n",
        "            loss = criterion(outputs, labels)\n",
        "            val_loss += loss.item()\n",
        "            _, predicted = torch.max(outputs.data, 1)\n",
        "            total += labels.size(0)\n",
        "            correct += (predicted == labels).sum().item()\n",
        "    \n",
        "    accuracy_list.append(correct / total)\n",
        "    val_loss = val_loss / total\n",
        "    val_loss_list.append(val_loss)\n",
        "\n",
        "    \n",
        "    print(\"Epoch \", epoch, \"; train loss = \", running_loss, \"; validation loss = \", val_loss, \"; accuracy = \", correct / total) \n",
        "    \n",
        "torch.save({\n",
        "                'nb_epoch': nb_epoch,\n",
        "                'model' : net.state_dict(),\n",
        "                'listLoss': loss_list,\n",
        "            }, \"modelNN.pth\")\n",
        "\n",
        "print('Finished Training and save the model as `modelNN.pth`')"
      ]
    },
    {
      "cell_type": "code",
      "execution_count": null,
      "metadata": {
        "colab": {
          "base_uri": "https://localhost:8080/",
          "height": 573
        },
        "id": "j00AI0cqDol5",
        "outputId": "1a8707ed-e3cb-4cb4-b909-f0316c12a03c"
      },
      "outputs": [
        {
          "data": {
            "image/png": "[encoded data removed]",
            "text/plain": [
              "<Figure size 432x288 with 1 Axes>"
            ]
          },
          "metadata": {},
          "output_type": "display_data"
        },
        {
          "data": {
            "image/png": "[encoded data removed]",
            "text/plain": [
              "<Figure size 432x288 with 1 Axes>"
            ]
          },
          "metadata": {},
          "output_type": "display_data"
        }
      ],
      "source": [
        "plt.plot()\n",
        "plt.plot(range(len(loss_list)), loss_list)\n",
        "\n",
        "plt.xlabel(\"Epochs\")\n",
        "plt.ylabel(\"Loss\")\n",
        "plt.title(\"loss curve\")\n",
        "plt.show()\n",
        "plt.plot()\n",
        "plt.plot(range(len(accuracy_list)), accuracy_list)\n",
        "\n",
        "plt.xlabel(\"Epochs\")\n",
        "plt.ylabel(\"Accuracy\")\n",
        "plt.title(\"accuracy curve\")\n",
        "\n",
        "\n",
        "\n",
        "\n",
        "\n",
        "plt.show()"
      ]
    },
    {
      "cell_type": "code",
      "execution_count": null,
      "metadata": {
        "colab": {
          "base_uri": "https://localhost:8080/"
        },
        "id": "d5MtAjk4n90o",
        "outputId": "50d0f649-4117-40b7-f377-836f99f4d584"
      },
      "outputs": [
        {
          "name": "stdout",
          "output_type": "stream",
          "text": [
            "Epoch  0 ; train loss =  1.6549233624458313 ; validation loss =  0.09410720539093018 ; accuracy =  0.4512\n",
            "Epoch  1 ; train loss =  1.3354924739718437 ; validation loss =  0.07959400721788407 ; accuracy =  0.5465\n",
            "Epoch  2 ; train loss =  1.2223804468870163 ; validation loss =  0.07520846311450005 ; accuracy =  0.5756\n",
            "Epoch  3 ; train loss =  1.145960095369816 ; validation loss =  0.07561727332770825 ; accuracy =  0.5847\n",
            "Epoch  4 ; train loss =  1.0953942058980466 ; validation loss =  0.07916202778816223 ; accuracy =  0.5765\n",
            "Epoch  5 ; train loss =  1.0558585896015167 ; validation loss =  0.07317337313890457 ; accuracy =  0.6074\n",
            "Epoch  6 ; train loss =  1.036561862820387 ; validation loss =  0.08032138778567315 ; accuracy =  0.5693\n",
            "Epoch  7 ; train loss =  1.0107864398956299 ; validation loss =  0.0772602109491825 ; accuracy =  0.5945\n",
            "Epoch  8 ; train loss =  0.991444204902649 ; validation loss =  0.07817509678304195 ; accuracy =  0.6033\n",
            "Epoch  9 ; train loss =  0.9795844942927361 ; validation loss =  0.08238278358876705 ; accuracy =  0.5789\n",
            "Epoch  10 ; train loss =  0.9685606844186783 ; validation loss =  0.0802838772237301 ; accuracy =  0.5925\n",
            "Epoch  11 ; train loss =  0.968663091057539 ; validation loss =  0.0776628062903881 ; accuracy =  0.5952\n",
            "Epoch  12 ; train loss =  0.951980264621973 ; validation loss =  0.08549835333228112 ; accuracy =  0.5786\n",
            "Epoch  13 ; train loss =  0.9635580856561661 ; validation loss =  0.08954036424160004 ; accuracy =  0.5424\n",
            "Epoch  14 ; train loss =  0.9500454715713859 ; validation loss =  0.08471505171060562 ; accuracy =  0.5751\n",
            "Epoch  15 ; train loss =  0.9507999930769205 ; validation loss =  0.09410886353850365 ; accuracy =  0.5535\n",
            "Epoch  16 ; train loss =  0.9516260851740838 ; validation loss =  0.09391475529372692 ; accuracy =  0.571\n",
            "Epoch  17 ; train loss =  0.9653921812713147 ; validation loss =  0.0881471042662859 ; accuracy =  0.5733\n",
            "Epoch  18 ; train loss =  0.9732307891964912 ; validation loss =  0.0928870833992958 ; accuracy =  0.5615\n",
            "Epoch  19 ; train loss =  0.9776325574219227 ; validation loss =  0.08815399640500546 ; accuracy =  0.5821\n",
            "Epoch  20 ; train loss =  0.9556437315404415 ; validation loss =  0.0922580970197916 ; accuracy =  0.5745\n",
            "Epoch  21 ; train loss =  0.975091920645535 ; validation loss =  0.09266374495029449 ; accuracy =  0.5622\n",
            "Epoch  22 ; train loss =  0.9733541128575802 ; validation loss =  0.08839204390347004 ; accuracy =  0.5783\n",
            "Epoch  23 ; train loss =  0.97001801507473 ; validation loss =  0.09530934238433839 ; accuracy =  0.577\n",
            "Epoch  24 ; train loss =  1.0000544199943542 ; validation loss =  0.0949254543915391 ; accuracy =  0.5552\n",
            "Epoch  25 ; train loss =  0.9953328800082206 ; validation loss =  0.09636595998108387 ; accuracy =  0.5486\n",
            "Epoch  26 ; train loss =  1.0300134274363517 ; validation loss =  0.10083336998224258 ; accuracy =  0.5781\n",
            "Epoch  27 ; train loss =  1.0065010513603687 ; validation loss =  0.0992262238562107 ; accuracy =  0.5755\n",
            "Epoch  28 ; train loss =  1.018471501880884 ; validation loss =  0.1041196558713913 ; accuracy =  0.5514\n",
            "Epoch  29 ; train loss =  1.0333029908329248 ; validation loss =  0.10490587108433247 ; accuracy =  0.5665\n",
            "Epoch  30 ; train loss =  1.0685004133880138 ; validation loss =  0.10205465081930161 ; accuracy =  0.5554\n",
            "Epoch  31 ; train loss =  1.028978447896242 ; validation loss =  0.10047561120092868 ; accuracy =  0.552\n",
            "Epoch  32 ; train loss =  1.0097311532586812 ; validation loss =  0.10138017397522926 ; accuracy =  0.5754\n",
            "Epoch  33 ; train loss =  1.030363030934334 ; validation loss =  0.10371256392002105 ; accuracy =  0.5565\n",
            "Epoch  34 ; train loss =  1.0856298206865787 ; validation loss =  0.1035178970426321 ; accuracy =  0.5371\n",
            "Epoch  35 ; train loss =  1.0870106497049332 ; validation loss =  0.11375199259519576 ; accuracy =  0.541\n",
            "Epoch  36 ; train loss =  1.1928476473510266 ; validation loss =  0.10848000136613846 ; accuracy =  0.5282\n",
            "Epoch  37 ; train loss =  1.1696734043121337 ; validation loss =  0.11256864940822124 ; accuracy =  0.5385\n",
            "Epoch  38 ; train loss =  1.1559424643784761 ; validation loss =  0.10885945746302604 ; accuracy =  0.5398\n",
            "Epoch  39 ; train loss =  1.2518523675829172 ; validation loss =  0.11610099143385887 ; accuracy =  0.5031\n",
            "Epoch  40 ; train loss =  1.2850912370979786 ; validation loss =  0.1141524327814579 ; accuracy =  0.5082\n",
            "Epoch  41 ; train loss =  1.1812185656189917 ; validation loss =  0.10973056102395058 ; accuracy =  0.5218\n",
            "Epoch  42 ; train loss =  1.227418011277914 ; validation loss =  0.11879641120433808 ; accuracy =  0.4909\n",
            "Epoch  43 ; train loss =  1.395318278336525 ; validation loss =  0.12115933910012246 ; accuracy =  0.487\n",
            "Epoch  44 ; train loss =  1.338715211057663 ; validation loss =  0.10925127099752426 ; accuracy =  0.4941\n",
            "Epoch  45 ; train loss =  1.4485195992112159 ; validation loss =  0.13564389664530754 ; accuracy =  0.3835\n",
            "Epoch  46 ; train loss =  1.6901263471841812 ; validation loss =  0.11948047578930855 ; accuracy =  0.4034\n",
            "Epoch  47 ; train loss =  1.6414720775604248 ; validation loss =  0.11119992315769195 ; accuracy =  0.4315\n",
            "Epoch  48 ; train loss =  1.6179934108138085 ; validation loss =  0.12747831614017485 ; accuracy =  0.3738\n",
            "Epoch  49 ; train loss =  1.8014762525558472 ; validation loss =  0.12271406766176224 ; accuracy =  0.3577\n",
            "Finished Training and save the model as `modelNN.pth`\n"
          ]
        }
      ],
      "source": [
        "net = Net()\n",
        "loss_list, accuracy_list = train(net,50)"
      ]
    },
    {
      "cell_type": "code",
      "execution_count": null,
      "metadata": {
        "colab": {
          "base_uri": "https://localhost:8080/",
          "height": 573
        },
        "id": "uU3jrYNVsw5d",
        "outputId": "b5440de5-b955-4143-9f99-a2536aa2084a"
      },
      "outputs": [
        {
          "data": {
            "image/png": "[encoded data removed]",
            "text/plain": [
              "<Figure size 432x288 with 1 Axes>"
            ]
          },
          "metadata": {},
          "output_type": "display_data"
        },
        {
          "data": {
            "image/png": "[encoded data removed]",
            "text/plain": [
              "<Figure size 432x288 with 1 Axes>"
            ]
          },
          "metadata": {},
          "output_type": "display_data"
        }
      ],
      "source": [
        "plt.plot()\n",
        "plt.plot(range(len(loss_list)), loss_list)\n",
        "\n",
        "plt.xlabel(\"Epochs\")\n",
        "plt.ylabel(\"Loss\")\n",
        "plt.title(\"loss curve\")\n",
        "plt.show()\n",
        "plt.plot()\n",
        "plt.plot(range(len(accuracy_list)), accuracy_list)\n",
        "\n",
        "plt.xlabel(\"Epochs\")\n",
        "plt.ylabel(\"Accuracy\")\n",
        "plt.title(\"accuracy curve\")\n",
        "\n",
        "\n",
        "\n",
        "\n",
        "\n",
        "plt.show()"
      ]
    },
    {
      "cell_type": "markdown",
      "metadata": {
        "id": "bBydNXMcD6-_"
      },
      "source": [
        "# Question 3 : Modifier l'architecture"
      ]
    },
    {
      "cell_type": "markdown",
      "metadata": {
        "id": "gmvdyzN1D_ex"
      },
      "source": [
        "Réduire les channels de sortie"
      ]
    },
    {
      "cell_type": "code",
      "execution_count": null,
      "metadata": {
        "colab": {
          "base_uri": "https://localhost:8080/"
        },
        "id": "8lkf_u-JEGsB",
        "outputId": "5ebcbea0-83a1-4bd8-9d8f-1539d0cf1d3f"
      },
      "outputs": [
        {
          "name": "stdout",
          "output_type": "stream",
          "text": [
            "Net(\n",
            "  (conv1): Conv2d(3, 6, kernel_size=(5, 5), stride=(1, 1))\n",
            "  (pool): MaxPool2d(kernel_size=2, stride=2, padding=0, dilation=1, ceil_mode=False)\n",
            "  (conv2): Conv2d(6, 16, kernel_size=(5, 5), stride=(1, 1))\n",
            "  (fc1): Linear(in_features=400, out_features=120, bias=True)\n",
            "  (fc2): Linear(in_features=120, out_features=84, bias=True)\n",
            "  (fc3): Linear(in_features=84, out_features=10, bias=True)\n",
            ")\n"
          ]
        }
      ],
      "source": [
        "import torch.nn as nn\n",
        "import torch.nn.functional as F\n",
        "\n",
        "class Net(nn.Module):\n",
        "    def __init__(self):\n",
        "        super(Net, self).__init__()\n",
        "        self.conv1 = nn.Conv2d(in_channels=3, out_channels=6, kernel_size=5)\n",
        "        self.pool = nn.MaxPool2d(kernel_size=2, stride=2)\n",
        "        self.conv2 = nn.Conv2d(in_channels=6, out_channels=16, kernel_size=5)\n",
        "        self.fc1 = nn.Linear(in_features=16 * 5 * 5, out_features=120)\n",
        "        self.fc2 = nn.Linear(in_features=120, out_features=84)\n",
        "        self.fc3 = nn.Linear(in_features=84, out_features=10)\n",
        " \n",
        "\n",
        "    def forward(self, x):\n",
        "        x = self.pool(F.relu(self.conv1(x)))\n",
        "        x = self.pool(F.relu(self.conv2(x)))\n",
        "        x = x.view(-1, 16* 5 * 5) #flattening\n",
        "        x = F.relu(self.fc1(x))\n",
        "        x = F.relu(self.fc2(x))\n",
        "        x = self.fc3(x)\n",
        "        return x\n",
        "\n",
        "net = Net().to(device)\n",
        "print(net)"
      ]
    },
    {
      "cell_type": "code",
      "execution_count": null,
      "metadata": {
        "colab": {
          "base_uri": "https://localhost:8080/"
        },
        "id": "SDB19AebEKh0",
        "outputId": "a17687cd-f27a-4d5f-8b93-7dd043b0c572"
      },
      "outputs": [
        {
          "name": "stdout",
          "output_type": "stream",
          "text": [
            "Epoch  0 ; train loss =  1.7403290841817856 ; validation loss =  0.09303789148330688 ; accuracy =  0.45\n",
            "Epoch  1 ; train loss =  1.4355946624279021 ; validation loss =  0.08705936259031295 ; accuracy =  0.5077\n",
            "Epoch  2 ; train loss =  1.32657785820961 ; validation loss =  0.08578483852744102 ; accuracy =  0.5155\n",
            "Epoch  3 ; train loss =  1.263974298632145 ; validation loss =  0.07988522159457206 ; accuracy =  0.5519\n",
            "Epoch  4 ; train loss =  1.2189047217607498 ; validation loss =  0.08308840578198433 ; accuracy =  0.5274\n",
            "Epoch  5 ; train loss =  1.198276206243038 ; validation loss =  0.08156694927811622 ; accuracy =  0.5456\n",
            "Epoch  6 ; train loss =  1.163602741611004 ; validation loss =  0.08002764807343483 ; accuracy =  0.5612\n",
            "Epoch  7 ; train loss =  1.1467302218735218 ; validation loss =  0.08314349300265313 ; accuracy =  0.5431\n",
            "Epoch  8 ; train loss =  1.1320934749245644 ; validation loss =  0.08405619871914387 ; accuracy =  0.5489\n",
            "Epoch  9 ; train loss =  1.1191038930177688 ; validation loss =  0.08862915100753307 ; accuracy =  0.5241\n",
            "Epoch  10 ; train loss =  1.1056958766102791 ; validation loss =  0.08483163374364376 ; accuracy =  0.5506\n",
            "Epoch  11 ; train loss =  1.0985925452589989 ; validation loss =  0.08689444178342819 ; accuracy =  0.5376\n",
            "Epoch  12 ; train loss =  1.0998708597064017 ; validation loss =  0.08638477326631545 ; accuracy =  0.5502\n",
            "Epoch  13 ; train loss =  1.090736489713192 ; validation loss =  0.08915974301099777 ; accuracy =  0.5507\n",
            "Epoch  14 ; train loss =  1.0829266397058963 ; validation loss =  0.08770501157045364 ; accuracy =  0.5686\n",
            "Epoch  15 ; train loss =  1.0988601436555385 ; validation loss =  0.09003792335391045 ; accuracy =  0.5459\n",
            "Epoch  16 ; train loss =  1.0970115406930447 ; validation loss =  0.0900769516825676 ; accuracy =  0.5355\n",
            "Epoch  17 ; train loss =  1.0974972324371337 ; validation loss =  0.09038072528243064 ; accuracy =  0.5262\n",
            "Epoch  18 ; train loss =  1.1018864877939225 ; validation loss =  0.09726485143303872 ; accuracy =  0.4966\n",
            "Epoch  19 ; train loss =  1.082105966091156 ; validation loss =  0.09196467168927193 ; accuracy =  0.5488\n",
            "Epoch  20 ; train loss =  1.0827586151957511 ; validation loss =  0.09544465475082398 ; accuracy =  0.5333\n",
            "Epoch  21 ; train loss =  1.0967477586865426 ; validation loss =  0.09254087963104247 ; accuracy =  0.5452\n",
            "Epoch  22 ; train loss =  1.0841989542841912 ; validation loss =  0.097683113270998 ; accuracy =  0.538\n",
            "Epoch  23 ; train loss =  1.0954670332908631 ; validation loss =  0.09942550448477268 ; accuracy =  0.5466\n",
            "Epoch  24 ; train loss =  1.1154506264567374 ; validation loss =  0.10237621251344681 ; accuracy =  0.5087\n",
            "Epoch  25 ; train loss =  1.1018578171133995 ; validation loss =  0.09800705926716327 ; accuracy =  0.5501\n",
            "Epoch  26 ; train loss =  1.093720776683092 ; validation loss =  0.0993081178367138 ; accuracy =  0.5088\n",
            "Epoch  27 ; train loss =  1.1142246239483355 ; validation loss =  0.09714561654925347 ; accuracy =  0.5437\n",
            "Epoch  28 ; train loss =  1.1077192900061608 ; validation loss =  0.10019705111384392 ; accuracy =  0.5462\n",
            "Epoch  29 ; train loss =  1.1115049323499202 ; validation loss =  0.1026540019929409 ; accuracy =  0.5113\n",
            "Finished Training and save the model as `modelNN.pth`\n"
          ]
        }
      ],
      "source": [
        "loss_list, accuracy_list = train(net,30)"
      ]
    },
    {
      "cell_type": "code",
      "execution_count": null,
      "metadata": {
        "colab": {
          "base_uri": "https://localhost:8080/",
          "height": 573
        },
        "id": "pvUKCNHiGBLN",
        "outputId": "cbeaba93-3ebd-42f6-9123-25ae5e35d519"
      },
      "outputs": [
        {
          "data": {
            "image/png": "[encoded data removed]",
            "text/plain": [
              "<Figure size 432x288 with 1 Axes>"
            ]
          },
          "metadata": {},
          "output_type": "display_data"
        },
        {
          "data": {
            "image/png": "[encoded data removed]",
            "text/plain": [
              "<Figure size 432x288 with 1 Axes>"
            ]
          },
          "metadata": {},
          "output_type": "display_data"
        }
      ],
      "source": [
        "plt.plot()\n",
        "plt.plot(range(len(loss_list)), loss_list)\n",
        "\n",
        "plt.xlabel(\"Epochs\")\n",
        "plt.ylabel(\"Loss\")\n",
        "plt.title(\"loss curve\")\n",
        "plt.show()\n",
        "plt.plot()\n",
        "plt.plot(range(len(accuracy_list)), accuracy_list)\n",
        "\n",
        "plt.xlabel(\"Epochs\")\n",
        "plt.ylabel(\"Accuracy\")\n",
        "plt.title(\"accuracy curve\")\n",
        "\n",
        "\n",
        "\n",
        "\n",
        "\n",
        "plt.show()"
      ]
    },
    {
      "cell_type": "markdown",
      "metadata": {
        "id": "J_7ga5OpEMhf"
      },
      "source": [
        "Augementer les channels de sortie"
      ]
    },
    {
      "cell_type": "code",
      "execution_count": null,
      "metadata": {
        "colab": {
          "base_uri": "https://localhost:8080/"
        },
        "id": "ubGKLcauEP42",
        "outputId": "ad492b9a-1fd7-4342-b142-76f6751ee741"
      },
      "outputs": [
        {
          "name": "stdout",
          "output_type": "stream",
          "text": [
            "Net(\n",
            "  (conv1): Conv2d(3, 32, kernel_size=(5, 5), stride=(1, 1))\n",
            "  (pool): MaxPool2d(kernel_size=2, stride=2, padding=0, dilation=1, ceil_mode=False)\n",
            "  (conv2): Conv2d(32, 64, kernel_size=(5, 5), stride=(1, 1))\n",
            "  (fc1): Linear(in_features=1600, out_features=124, bias=True)\n",
            "  (fc2): Linear(in_features=124, out_features=84, bias=True)\n",
            "  (fc3): Linear(in_features=84, out_features=10, bias=True)\n",
            ")\n"
          ]
        }
      ],
      "source": [
        "import torch.nn as nn\n",
        "import torch.nn.functional as F\n",
        "\n",
        "class Net(nn.Module):\n",
        "    def __init__(self):\n",
        "        super(Net, self).__init__()\n",
        "        self.conv1 = nn.Conv2d(in_channels=3, out_channels=32, kernel_size=5)\n",
        "        self.pool = nn.MaxPool2d(kernel_size=2, stride=2)\n",
        "        self.conv2 = nn.Conv2d(in_channels=32, out_channels=64, kernel_size=5)\n",
        "        self.fc1 = nn.Linear(in_features=64 * 5* 5, out_features=124)\n",
        "        self.fc2 = nn.Linear(in_features=124, out_features=84)\n",
        "        self.fc3 = nn.Linear(in_features=84, out_features=10)\n",
        " \n",
        "\n",
        "    def forward(self, x):\n",
        "        x = self.pool(F.relu(self.conv1(x)))\n",
        "        x = self.pool(F.relu(self.conv2(x)))\n",
        "        x = x.view(-1, 64* 5* 5) #flattening\n",
        "        x = F.relu(self.fc1(x))\n",
        "        x = F.relu(self.fc2(x))\n",
        "        x = self.fc3(x)\n",
        "        return x\n",
        "\n",
        "net = Net().to(device)\n",
        "print(net)"
      ]
    },
    {
      "cell_type": "code",
      "execution_count": null,
      "metadata": {
        "colab": {
          "base_uri": "https://localhost:8080/"
        },
        "id": "flaYGpH3Eumu",
        "outputId": "fc21ccf8-d1b8-4801-b201-0ca55da039d8"
      },
      "outputs": [
        {
          "name": "stdout",
          "output_type": "stream",
          "text": [
            "Epoch  0 ; train loss =  1.5769049356222153 ; validation loss =  0.0844665390074253 ; accuracy =  0.5313\n",
            "Epoch  1 ; train loss =  1.1856524205207826 ; validation loss =  0.07000334449112415 ; accuracy =  0.6224\n",
            "Epoch  2 ; train loss =  1.0103362520754338 ; validation loss =  0.06523874956071377 ; accuracy =  0.651\n",
            "Epoch  3 ; train loss =  0.9033853489518165 ; validation loss =  0.0664349333524704 ; accuracy =  0.6402\n",
            "Epoch  4 ; train loss =  0.8200588400214911 ; validation loss =  0.0695653815805912 ; accuracy =  0.634\n",
            "Epoch  5 ; train loss =  0.7503459255933762 ; validation loss =  0.0712862347766757 ; accuracy =  0.648\n",
            "Epoch  6 ; train loss =  0.6993543348729611 ; validation loss =  0.07285365104973317 ; accuracy =  0.6358\n",
            "Epoch  7 ; train loss =  0.6752359586328268 ; validation loss =  0.06654588260799646 ; accuracy =  0.681\n",
            "Epoch  8 ; train loss =  0.6296810042411088 ; validation loss =  0.07175629642605781 ; accuracy =  0.6577\n",
            "Epoch  9 ; train loss =  0.6267497913479805 ; validation loss =  0.0752649051450193 ; accuracy =  0.6726\n",
            "Epoch  10 ; train loss =  0.6114031349986792 ; validation loss =  0.08561300040483474 ; accuracy =  0.6241\n",
            "Epoch  11 ; train loss =  0.6010999931618571 ; validation loss =  0.08165969235301018 ; accuracy =  0.6541\n",
            "Epoch  12 ; train loss =  0.5870373806372284 ; validation loss =  0.08535614821612834 ; accuracy =  0.6589\n",
            "Epoch  13 ; train loss =  0.588308552365005 ; validation loss =  0.0870853638842702 ; accuracy =  0.6581\n",
            "Epoch  14 ; train loss =  0.5834022968709469 ; validation loss =  0.0909279771078378 ; accuracy =  0.6574\n",
            "Epoch  15 ; train loss =  0.5792102778855711 ; validation loss =  0.08892242835909128 ; accuracy =  0.6297\n",
            "Epoch  16 ; train loss =  0.5943128762390465 ; validation loss =  0.09346546019911767 ; accuracy =  0.6464\n",
            "Epoch  17 ; train loss =  0.6556810258064419 ; validation loss =  0.08974554796814918 ; accuracy =  0.6218\n",
            "Epoch  18 ; train loss =  0.6111974835335277 ; validation loss =  0.0971939720839262 ; accuracy =  0.644\n",
            "Epoch  19 ; train loss =  0.6522158292677254 ; validation loss =  0.10151209941357374 ; accuracy =  0.6635\n",
            "Epoch  20 ; train loss =  0.6666498855996877 ; validation loss =  0.09967254459410906 ; accuracy =  0.6272\n",
            "Epoch  21 ; train loss =  0.6463071500682097 ; validation loss =  0.11101738766431808 ; accuracy =  0.6283\n",
            "Epoch  22 ; train loss =  0.6962463809581386 ; validation loss =  0.102579908747226 ; accuracy =  0.6242\n",
            "Epoch  23 ; train loss =  0.715799470480904 ; validation loss =  0.10698721804320813 ; accuracy =  0.6117\n",
            "Epoch  24 ; train loss =  0.7799129944652319 ; validation loss =  0.11202964982390404 ; accuracy =  0.5675\n",
            "Epoch  25 ; train loss =  0.7734443876799196 ; validation loss =  0.11120574016869068 ; accuracy =  0.6289\n",
            "Epoch  26 ; train loss =  0.7964094204181805 ; validation loss =  0.11647963261604309 ; accuracy =  0.5768\n",
            "Epoch  27 ; train loss =  0.8941763840280473 ; validation loss =  0.11276432778537274 ; accuracy =  0.5865\n",
            "Epoch  28 ; train loss =  1.1257239899605513 ; validation loss =  0.1156436239540577 ; accuracy =  0.5439\n",
            "Epoch  29 ; train loss =  1.2799896994829179 ; validation loss =  0.11610425100922585 ; accuracy =  0.6003\n",
            "Finished Training and save the model as `modelNN.pth`\n"
          ]
        }
      ],
      "source": [
        "loss_list, accuracy_list = train(net,30)"
      ]
    },
    {
      "cell_type": "code",
      "execution_count": null,
      "metadata": {
        "colab": {
          "base_uri": "https://localhost:8080/",
          "height": 573
        },
        "id": "GqvtLQbqGE86",
        "outputId": "9b5425af-4847-4221-d221-1ecf91ea42e9"
      },
      "outputs": [
        {
          "data": {
            "image/png": "[encoded data removed]",
            "text/plain": [
              "<Figure size 432x288 with 1 Axes>"
            ]
          },
          "metadata": {},
          "output_type": "display_data"
        },
        {
          "data": {
            "image/png": "[encoded data removed]",
            "text/plain": [
              "<Figure size 432x288 with 1 Axes>"
            ]
          },
          "metadata": {},
          "output_type": "display_data"
        }
      ],
      "source": [
        "plt.plot()\n",
        "plt.plot(range(len(loss_list)), loss_list)\n",
        "\n",
        "plt.xlabel(\"Epochs\")\n",
        "plt.ylabel(\"Loss\")\n",
        "plt.title(\"loss curve\")\n",
        "plt.show()\n",
        "plt.plot()\n",
        "plt.plot(range(len(accuracy_list)), accuracy_list)\n",
        "\n",
        "plt.xlabel(\"Epochs\")\n",
        "plt.ylabel(\"Accuracy\")\n",
        "plt.title(\"accuracy curve\")\n",
        "\n",
        "\n",
        "\n",
        "\n",
        "\n",
        "plt.show()"
      ]
    },
    {
      "cell_type": "code",
      "execution_count": 10,
      "metadata": {
        "id": "u8TE022uXkY1"
      },
      "outputs": [],
      "source": [
        "class Net(nn.Module):\n",
        "    def __init__(self):\n",
        "        super(Net, self).__init__()\n",
        "        # convolutional layer\n",
        "        self.conv1 = nn.Conv2d(3, 16, 3, padding=1)\n",
        "        self.conv2 = nn.Conv2d(16, 32, 3, padding=1)\n",
        "        self.conv3 = nn.Conv2d(32, 64, 3, padding=1)\n",
        "        # max pooling layer\n",
        "        self.pool = nn.MaxPool2d(2, 2)\n",
        "        # fully connected layers\n",
        "        self.fc1 = nn.Linear(64 * 4 * 4, 512)\n",
        "        self.fc2 = nn.Linear(512, 64)\n",
        "        self.fc3 = nn.Linear(64, 10)\n",
        "      \n",
        "       \n",
        "\n",
        "    def forward(self, x):\n",
        "        # add sequence of convolutional and max pooling layers\n",
        "        x = self.pool(F.relu(self.conv1(x)))\n",
        "        x = self.pool(F.relu(self.conv2(x)))\n",
        "        x = self.pool(F.relu(self.conv3(x)))\n",
        "        # flattening\n",
        "        x = x.view(-1, 64 * 4 * 4)\n",
        "        # fully connected layers\n",
        "        x = F.relu(self.fc1(x))\n",
        "        x = F.relu(self.fc2(x))\n",
        "        x = self.fc3(x)\n",
        "        return x\n",
        "\n",
        "net = Net().to(device)"
      ]
    },
    {
      "cell_type": "code",
      "execution_count": 13,
      "metadata": {
        "colab": {
          "base_uri": "https://localhost:8080/"
        },
        "id": "awbkXaPxZJHq",
        "outputId": "6a3b9cf9-af78-47ec-8acb-36adf598f7e2"
      },
      "outputs": [
        {
          "output_type": "stream",
          "name": "stdout",
          "text": [
            "Epoch  0 ; train loss =  1.7990007009029387 ; validation loss =  0.09382645153999329 ; accuracy =  0.443\n",
            "Epoch  1 ; train loss =  1.4769871032953263 ; validation loss =  0.08960137089490891 ; accuracy =  0.4913\n",
            "Epoch  2 ; train loss =  1.377484283053875 ; validation loss =  0.08679784283638001 ; accuracy =  0.5019\n",
            "Epoch  3 ; train loss =  1.3176422429084778 ; validation loss =  0.07987519445419311 ; accuracy =  0.5385\n",
            "Epoch  4 ; train loss =  1.2818713999986648 ; validation loss =  0.07965510421395301 ; accuracy =  0.5447\n",
            "Epoch  5 ; train loss =  1.2592230283617973 ; validation loss =  0.07576678109169006 ; accuracy =  0.5726\n",
            "Epoch  6 ; train loss =  1.2459989675641059 ; validation loss =  0.079014996483922 ; accuracy =  0.5582\n",
            "Epoch  7 ; train loss =  1.2365328162908553 ; validation loss =  0.08046353315114975 ; accuracy =  0.5533\n",
            "Epoch  8 ; train loss =  1.2386301866054534 ; validation loss =  0.07860505639314652 ; accuracy =  0.5703\n",
            "Epoch  9 ; train loss =  1.2372239280819892 ; validation loss =  0.07976430774927139 ; accuracy =  0.5665\n",
            "Epoch  10 ; train loss =  1.2408024541258813 ; validation loss =  0.08074866731464862 ; accuracy =  0.557\n",
            "Epoch  11 ; train loss =  1.2428890523672105 ; validation loss =  0.08191660002470016 ; accuracy =  0.5453\n",
            "Epoch  12 ; train loss =  1.2484406564474106 ; validation loss =  0.08167605271339416 ; accuracy =  0.5586\n",
            "Epoch  13 ; train loss =  1.2503383382320403 ; validation loss =  0.07922736970484257 ; accuracy =  0.5616\n",
            "Epoch  14 ; train loss =  1.254113664484024 ; validation loss =  0.08167036227881909 ; accuracy =  0.5452\n",
            "Epoch  15 ; train loss =  1.2477320826292038 ; validation loss =  0.08110684814453124 ; accuracy =  0.5534\n",
            "Epoch  16 ; train loss =  1.2748297791719436 ; validation loss =  0.08388117515444755 ; accuracy =  0.545\n",
            "Epoch  17 ; train loss =  1.2778031761288642 ; validation loss =  0.08082483708560467 ; accuracy =  0.5657\n",
            "Epoch  18 ; train loss =  1.2651211152553559 ; validation loss =  0.08431135686635971 ; accuracy =  0.5432\n",
            "Epoch  19 ; train loss =  1.2898668659448624 ; validation loss =  0.08727607034444809 ; accuracy =  0.5346\n",
            "Epoch  20 ; train loss =  1.2995425506234168 ; validation loss =  0.0842350040435791 ; accuracy =  0.5447\n",
            "Epoch  21 ; train loss =  1.3018165827512742 ; validation loss =  0.0859035738348961 ; accuracy =  0.5399\n",
            "Epoch  22 ; train loss =  1.3052796720147133 ; validation loss =  0.08420856674909592 ; accuracy =  0.5418\n",
            "Epoch  23 ; train loss =  1.3126049806833266 ; validation loss =  0.08773153932094574 ; accuracy =  0.5269\n",
            "Epoch  24 ; train loss =  1.3234392112135887 ; validation loss =  0.0874141840159893 ; accuracy =  0.5412\n",
            "Epoch  25 ; train loss =  1.3343871870040893 ; validation loss =  0.08385714455842971 ; accuracy =  0.5467\n",
            "Epoch  26 ; train loss =  1.3237741343259812 ; validation loss =  0.08896185238957405 ; accuracy =  0.5136\n",
            "Epoch  27 ; train loss =  1.3621169483780862 ; validation loss =  0.08721992918848992 ; accuracy =  0.5322\n",
            "Epoch  28 ; train loss =  1.3539359713315964 ; validation loss =  0.08876985072791577 ; accuracy =  0.5318\n",
            "Epoch  29 ; train loss =  1.37264541451931 ; validation loss =  0.08737584654688835 ; accuracy =  0.533\n",
            "Finished Training and save the model as `modelNN.pth`\n"
          ]
        }
      ],
      "source": [
        "loss_list, accuracy_list = train(net,30)"
      ]
    },
    {
      "cell_type": "code",
      "execution_count": 14,
      "metadata": {
        "colab": {
          "base_uri": "https://localhost:8080/",
          "height": 573
        },
        "id": "AnNTVhnwfeZp",
        "outputId": "5e7e05e7-ff24-4807-dd0e-8c12e738c395"
      },
      "outputs": [
        {
          "output_type": "display_data",
          "data": {
            "image/png": "[encoded data removed]",
            "text/plain": [
              "<Figure size 432x288 with 1 Axes>"
            ]
          },
          "metadata": {
            "needs_background": "light"
          }
        },
        {
          "output_type": "display_data",
          "data": {
            "image/png": "[encoded data removed]",
            "text/plain": [
              "<Figure size 432x288 with 1 Axes>"
            ]
          },
          "metadata": {
            "needs_background": "light"
          }
        }
      ],
      "source": [
        "plt.plot()\n",
        "plt.plot(range(len(loss_list)), loss_list)\n",
        "\n",
        "plt.xlabel(\"Epochs\")\n",
        "plt.ylabel(\"Loss\")\n",
        "plt.title(\"loss curve\")\n",
        "plt.show()\n",
        "plt.plot()\n",
        "plt.plot(range(len(accuracy_list)), accuracy_list)\n",
        "\n",
        "plt.xlabel(\"Epochs\")\n",
        "plt.ylabel(\"Accuracy\")\n",
        "plt.title(\"accuracy curve\")\n",
        "\n",
        "\n",
        "\n",
        "\n",
        "\n",
        "plt.show()"
      ]
    },
    {
      "cell_type": "markdown",
      "metadata": {
        "id": "4Wgyi8rRfoPn"
      },
      "source": [
        ""
      ]
    },
    {
      "cell_type": "code",
      "execution_count": 15,
      "metadata": {
        "id": "PMDINi1KfudS"
      },
      "outputs": [],
      "source": [
        "\n",
        "class CNN(nn.Module):\n",
        "   \n",
        "\n",
        "    def __init__(self):\n",
        "        \n",
        "        super(CNN, self).__init__()\n",
        "\n",
        "        self.conv_layer = nn.Sequential(\n",
        "\n",
        "            # Conv Layer block 1\n",
        "            nn.Conv2d(in_channels=3, out_channels=32, kernel_size=3, padding=1),\n",
        "        \n",
        "            nn.ReLU(inplace=True),\n",
        "            nn.Conv2d(in_channels=32, out_channels=64, kernel_size=3, padding=1),\n",
        "            nn.ReLU(inplace=True),\n",
        "            nn.MaxPool2d(kernel_size=2, stride=2),\n",
        "\n",
        "            # Conv Layer block 2\n",
        "            nn.Conv2d(in_channels=64, out_channels=128, kernel_size=3, padding=1),\n",
        "           \n",
        "            nn.ReLU(inplace=True),\n",
        "            nn.Conv2d(in_channels=128, out_channels=128, kernel_size=3, padding=1),\n",
        "            nn.ReLU(inplace=True),\n",
        "            nn.MaxPool2d(kernel_size=2, stride=2),\n",
        "           \n",
        "\n",
        "            # Conv Layer block 3\n",
        "            nn.Conv2d(in_channels=128, out_channels=256, kernel_size=3, padding=1),\n",
        "          \n",
        "            nn.ReLU(inplace=True),\n",
        "            nn.Conv2d(in_channels=256, out_channels=256, kernel_size=3, padding=1),\n",
        "            nn.ReLU(inplace=True),\n",
        "            nn.MaxPool2d(kernel_size=2, stride=2),\n",
        "        )\n",
        "\n",
        "\n",
        "        self.fc_layer = nn.Sequential(\n",
        "       \n",
        "            nn.Linear(4096, 1024),\n",
        "            nn.ReLU(inplace=True),\n",
        "            nn.Linear(1024, 512),\n",
        "            nn.ReLU(inplace=True),\n",
        "         \n",
        "            nn.Linear(512, 10)\n",
        "        )\n",
        "\n",
        "\n",
        "    def forward(self, x):\n",
        "        \"\"\"Perform forward.\"\"\"\n",
        "        \n",
        "        \n",
        "        # conv layers\n",
        "        x = self.conv_layer(x)\n",
        "        \n",
        "        # flatten\n",
        "        x = x.view(x.size(0), -1)\n",
        "        \n",
        "        # fc layer\n",
        "        x = self.fc_layer(x)\n",
        "\n",
        "        return x\n",
        "\n",
        "net = CNN().to(device)"
      ]
    },
    {
      "cell_type": "code",
      "execution_count": 16,
      "metadata": {
        "colab": {
          "base_uri": "https://localhost:8080/"
        },
        "id": "0GqQZYwxf56W",
        "outputId": "ad5b74bb-28d2-472b-e329-704f6312ba15"
      },
      "outputs": [
        {
          "output_type": "stream",
          "name": "stdout",
          "text": [
            "Epoch  0 ; train loss =  2.046619375658035 ; validation loss =  0.10821501604318619 ; accuracy =  0.3456\n",
            "Epoch  1 ; train loss =  1.6022355233430863 ; validation loss =  0.09102635062932968 ; accuracy =  0.463\n",
            "Epoch  2 ; train loss =  1.3807750124931335 ; validation loss =  0.08146131969094277 ; accuracy =  0.5155\n",
            "Epoch  3 ; train loss =  1.2272798910975455 ; validation loss =  0.07759213982522488 ; accuracy =  0.5674\n",
            "Epoch  4 ; train loss =  1.1106652571558953 ; validation loss =  0.06907876493930816 ; accuracy =  0.6146\n",
            "Epoch  5 ; train loss =  1.0288891564488412 ; validation loss =  0.06353167225718498 ; accuracy =  0.6444\n",
            "Epoch  6 ; train loss =  0.9720838968038559 ; validation loss =  0.062151546451449394 ; accuracy =  0.6492\n",
            "Epoch  7 ; train loss =  0.9259506151497364 ; validation loss =  0.06372717814445496 ; accuracy =  0.6375\n",
            "Epoch  8 ; train loss =  0.8996070716798306 ; validation loss =  0.05841821358501911 ; accuracy =  0.6745\n",
            "Epoch  9 ; train loss =  0.8715661446750164 ; validation loss =  0.056561017775535585 ; accuracy =  0.6886\n",
            "Epoch  10 ; train loss =  0.8619209412306548 ; validation loss =  0.06123185543864965 ; accuracy =  0.6622\n",
            "Epoch  11 ; train loss =  0.8426452713370323 ; validation loss =  0.05712602643966675 ; accuracy =  0.6918\n",
            "Epoch  12 ; train loss =  0.8394226891517639 ; validation loss =  0.060049180579185485 ; accuracy =  0.6777\n",
            "Epoch  13 ; train loss =  0.8551348621487618 ; validation loss =  0.05792194699943066 ; accuracy =  0.6924\n",
            "Epoch  14 ; train loss =  0.8497775865495205 ; validation loss =  0.06424624209105968 ; accuracy =  0.6567\n",
            "Epoch  15 ; train loss =  0.8684382018089294 ; validation loss =  0.0584498996257782 ; accuracy =  0.6793\n",
            "Epoch  16 ; train loss =  0.874522952157259 ; validation loss =  0.059814769573509695 ; accuracy =  0.6755\n",
            "Epoch  17 ; train loss =  0.8873870996236801 ; validation loss =  0.06280519394427538 ; accuracy =  0.6661\n",
            "Epoch  18 ; train loss =  0.9220305301368237 ; validation loss =  0.06101763070225716 ; accuracy =  0.6668\n",
            "Epoch  19 ; train loss =  0.9425209940254689 ; validation loss =  0.0664450081527233 ; accuracy =  0.646\n",
            "Epoch  20 ; train loss =  0.9932705510228872 ; validation loss =  0.06624230697155 ; accuracy =  0.6446\n",
            "Epoch  21 ; train loss =  1.0363906222105026 ; validation loss =  0.07309242099821568 ; accuracy =  0.6074\n",
            "Epoch  22 ; train loss =  1.078585359764099 ; validation loss =  0.07587042822241784 ; accuracy =  0.6015\n",
            "Epoch  23 ; train loss =  1.1453167963147164 ; validation loss =  0.07492817353010178 ; accuracy =  0.6096\n",
            "Epoch  24 ; train loss =  1.1973794602394103 ; validation loss =  0.08264688558876515 ; accuracy =  0.5657\n",
            "Epoch  25 ; train loss =  1.2830854086279868 ; validation loss =  0.08849839690327645 ; accuracy =  0.5114\n",
            "Epoch  26 ; train loss =  1.3574403597474098 ; validation loss =  0.08793666417896748 ; accuracy =  0.5373\n",
            "Epoch  27 ; train loss =  1.4496269227743148 ; validation loss =  0.09188133070468903 ; accuracy =  0.4925\n",
            "Epoch  28 ; train loss =  1.5265842722177505 ; validation loss =  0.10695158956646919 ; accuracy =  0.4027\n",
            "Epoch  29 ; train loss =  1.6243405705451965 ; validation loss =  0.1128805094718933 ; accuracy =  0.3531\n",
            "Finished Training and save the model as `modelNN.pth`\n"
          ]
        }
      ],
      "source": [
        "loss_list, accuracy_list = train(net,30)"
      ]
    },
    {
      "cell_type": "code",
      "execution_count": 17,
      "metadata": {
        "colab": {
          "base_uri": "https://localhost:8080/",
          "height": 573
        },
        "id": "SkPq2riQgiLY",
        "outputId": "5ecd22aa-7432-424a-ace9-77b10fe4e088"
      },
      "outputs": [
        {
          "output_type": "display_data",
          "data": {
            "image/png": "[encoded data removed]",
            "text/plain": [
              "<Figure size 432x288 with 1 Axes>"
            ]
          },
          "metadata": {
            "needs_background": "light"
          }
        },
        {
          "output_type": "display_data",
          "data": {
            "image/png": "[encoded data removed]",
            "text/plain": [
              "<Figure size 432x288 with 1 Axes>"
            ]
          },
          "metadata": {
            "needs_background": "light"
          }
        }
      ],
      "source": [
        "plt.plot()\n",
        "plt.plot(range(len(loss_list)), loss_list)\n",
        "\n",
        "plt.xlabel(\"Epochs\")\n",
        "plt.ylabel(\"Loss\")\n",
        "plt.title(\"loss curve\")\n",
        "plt.show()\n",
        "plt.plot()\n",
        "plt.plot(range(len(accuracy_list)), accuracy_list)\n",
        "\n",
        "plt.xlabel(\"Epochs\")\n",
        "plt.ylabel(\"Accuracy\")\n",
        "plt.title(\"accuracy curve\")\n",
        "\n",
        "\n",
        "\n",
        "\n",
        "\n",
        "plt.show()"
      ]
    },
    {
      "cell_type": "markdown",
      "metadata": {
        "id": "gI_PQkvWgmWg"
      },
      "source": [
        "# Question 4 : sortie des filtres"
      ]
    },
    {
      "cell_type": "code",
      "execution_count": null,
      "metadata": {
        "colab": {
          "base_uri": "https://localhost:8080/",
          "height": 240
        },
        "id": "fdEiTVeDgypx",
        "outputId": "74e58f78-a18d-4579-821c-18fb4acf3c77"
      },
      "outputs": [
        {
          "data": {
            "text/plain": [
              "<matplotlib.image.AxesImage at 0x7f7a86312f10>"
            ]
          },
          "execution_count": 44,
          "metadata": {},
          "output_type": "execute_result"
        },
        {
          "data": {
            "image/png": "[encoded data removed]",
            "text/plain": [
              "<Figure size 432x288 with 1 Axes>"
            ]
          },
          "metadata": {},
          "output_type": "display_data"
        }
      ],
      "source": [
        "from torchvision.utils import make_grid\n",
        "import matplotlib.pyplot as plt\n",
        "kernels = net.conv_layer[0].weight.detach().clone()\n",
        "kernels = kernels.cpu()\n",
        "kernels = kernels - kernels.min()\n",
        "kernels = kernels / kernels.max()\n",
        "img = make_grid(kernels)\n",
        "plt.imshow(img.permute(1, 2, 0))"
      ]
    },
    {
      "cell_type": "markdown",
      "metadata": {
        "id": "2ssnkEUWg0v9"
      },
      "source": [
        "# Question 5 : SqueezeNet"
      ]
    },
    {
      "cell_type": "code",
      "execution_count": 19,
      "metadata": {
        "colab": {
          "base_uri": "https://localhost:8080/"
        },
        "id": "IrA54ECTg4RK",
        "outputId": "3d8dcae4-5e84-448b-a4e0-ba3ae5dea947"
      },
      "outputs": [
        {
          "output_type": "stream",
          "name": "stdout",
          "text": [
            "PyTorch Version:  1.10.0+cu111\n",
            "Torchvision Version:  0.11.1+cu111\n"
          ]
        }
      ],
      "source": [
        "from __future__ import print_function\n",
        "from __future__ import division\n",
        "import torch\n",
        "import torch.nn as nn\n",
        "import torch.optim as optim\n",
        "import numpy as np\n",
        "import torchvision\n",
        "from torchvision import datasets, models, transforms\n",
        "import matplotlib.pyplot as plt\n",
        "import time\n",
        "import os\n",
        "import copy\n",
        "print(\"PyTorch Version: \",torch.__version__)\n",
        "print(\"Torchvision Version: \",torchvision.__version__)"
      ]
    },
    {
      "cell_type": "code",
      "execution_count": 87,
      "metadata": {
        "id": "5ZE_I2MhMWE6"
      },
      "outputs": [],
      "source": [
        "def train_finetune(model, nb_epoch):\n",
        "  ###############################################\n",
        "  #   * Fixer les paramètres de l'entraînement   #\n",
        "      ###############################################\n",
        "  model.to(device)\n",
        "  criterion = nn.CrossEntropyLoss()\n",
        "  optimizer = optim.SGD(model.parameters(), lr=0.001, momentum=0.9)\n",
        "  nb_epoch = 30 # Le nombre d'epoch\n",
        "  loss_list = [] # liste qui va contenir la valeur du loss a chaque epoch\n",
        "  accuracy_list = []\n",
        "  val_loss_list =[]\n",
        "\n",
        "  for epoch in range(nb_epoch):  # loop over the dataset multiple times\n",
        "\n",
        "      running_loss = 0.0\n",
        "      nb_data = 0.\n",
        "      model.train()\n",
        "      for i, data in enumerate(trainloader, 0):\n",
        "          # get the inputs; data is a list of [inputs, labels]\n",
        "          inputs, labels = data\n",
        "          \n",
        "          # zero the parameter gradients\n",
        "          optimizer.zero_grad()\n",
        "\n",
        "          inputs, labels = inputs.to(device), labels.to(device)\n",
        "         \n",
        "\n",
        "          # forward + backward + optimize\n",
        "          outputs = model(inputs)              # Forward\n",
        " \n",
        "      \n",
        "          loss = criterion(outputs, labels)\n",
        "          loss.backward()                    # Backward\n",
        "         # torch.autograd.set_detect_anomaly(False)\n",
        "          optimizer.step()                   # optimize\n",
        "  \n",
        "          # print statistics\n",
        "          running_loss += loss.item()\n",
        "          \n",
        "          nb_data += 1.\n",
        "          \n",
        "      running_loss = running_loss / nb_data\n",
        "      loss_list.append(running_loss)  \n",
        "      \n",
        "      correct = 0.\n",
        "      total = 0.\n",
        "      val_loss =0.\n",
        "      model.eval()\n",
        "      with torch.no_grad():\n",
        "\n",
        "          for data in valloader:\n",
        "              images, labels = data\n",
        "              images, labels = images.to(device), labels.to(device)\n",
        "              outputs = model(images)\n",
        "              loss = criterion(outputs, labels)\n",
        "              val_loss += loss.item()\n",
        "              _, predicted = torch.max(outputs.data, 1)\n",
        "              total += labels.size(0)\n",
        "              correct += (predicted == labels).sum().item()\n",
        "      \n",
        "      accuracy_list.append(correct / total)\n",
        "      val_loss = val_loss / total\n",
        "      val_loss_list.append(val_loss)\n",
        "\n",
        "      \n",
        "      print(\"Epoch \", epoch, \"; train loss = \", running_loss, \"; validation loss = \", val_loss, \"; accuracy = \", correct / total) \n",
        "      \n",
        "  torch.save({\n",
        "                  'nb_epoch': nb_epoch,\n",
        "                  'model' : net.state_dict(),\n",
        "                  'listLoss': loss_list,\n",
        "              }, \"modelNN.pth\")\n",
        "\n",
        "  print('Finished Training and save the model as `modelNN.pth`')\n",
        "\n",
        "  return loss_list, accuracy_list\n"
      ]
    },
    {
      "cell_type": "code",
      "source": [
        "squeeze = models.squeezenet1_1(pretrained=True)"
      ],
      "metadata": {
        "id": "lt6L57QIuTmy"
      },
      "execution_count": 85,
      "outputs": []
    },
    {
      "cell_type": "code",
      "execution_count": 86,
      "metadata": {
        "id": "tH5naaNazSC_",
        "colab": {
          "base_uri": "https://localhost:8080/"
        },
        "outputId": "8fa7e5aa-723a-4092-dfdb-60e907a7a33b"
      },
      "outputs": [
        {
          "output_type": "stream",
          "name": "stdout",
          "text": [
            "Epoch  0 ; train loss =  41.6706420135498 ; validation loss =  1.443281099319458 ; accuracy =  0.001\n",
            "Epoch  1 ; train loss =  22.476581478118895 ; validation loss =  0.902419391155243 ; accuracy =  0.0019\n",
            "Epoch  2 ; train loss =  15.263115240097045 ; validation loss =  0.6803659096717835 ; accuracy =  0.003\n",
            "Epoch  3 ; train loss =  11.946184007835388 ; validation loss =  0.5673571403980255 ; accuracy =  0.0033\n",
            "Epoch  4 ; train loss =  10.093877913475037 ; validation loss =  0.50001408162117 ; accuracy =  0.005\n",
            "Epoch  5 ; train loss =  8.974625930404663 ; validation loss =  0.45572707648277283 ; accuracy =  0.0074\n",
            "Epoch  6 ; train loss =  8.214748962974548 ; validation loss =  0.42503798604011533 ; accuracy =  0.0108\n",
            "Epoch  7 ; train loss =  7.689945794296265 ; validation loss =  0.40307342958450315 ; accuracy =  0.0136\n",
            "Epoch  8 ; train loss =  7.3379788444519045 ; validation loss =  0.38683146305084226 ; accuracy =  0.0192\n",
            "Epoch  9 ; train loss =  7.08149994430542 ; validation loss =  0.3744172412395477 ; accuracy =  0.0238\n",
            "Epoch  10 ; train loss =  6.870174916839599 ; validation loss =  0.3646881679058075 ; accuracy =  0.028\n",
            "Epoch  11 ; train loss =  6.709883122634888 ; validation loss =  0.357066912651062 ; accuracy =  0.0322\n",
            "Epoch  12 ; train loss =  6.607599547195434 ; validation loss =  0.3510243564605713 ; accuracy =  0.0366\n",
            "Epoch  13 ; train loss =  6.4914612310409545 ; validation loss =  0.3457674750328064 ; accuracy =  0.0409\n",
            "Epoch  14 ; train loss =  6.372880267143249 ; validation loss =  0.3410898811817169 ; accuracy =  0.0451\n",
            "Epoch  15 ; train loss =  6.309985515785217 ; validation loss =  0.33714457569122314 ; accuracy =  0.0501\n",
            "Epoch  16 ; train loss =  6.250779764175415 ; validation loss =  0.33348860931396485 ; accuracy =  0.053\n",
            "Epoch  17 ; train loss =  6.184257453155517 ; validation loss =  0.33012746744155885 ; accuracy =  0.056\n",
            "Epoch  18 ; train loss =  6.1569885747909545 ; validation loss =  0.3270830021381378 ; accuracy =  0.0603\n",
            "Epoch  19 ; train loss =  6.098038699913025 ; validation loss =  0.3241595114707947 ; accuracy =  0.0638\n",
            "Epoch  20 ; train loss =  6.047382201385498 ; validation loss =  0.3214597806930542 ; accuracy =  0.0669\n",
            "Epoch  21 ; train loss =  5.996653444099426 ; validation loss =  0.318729150390625 ; accuracy =  0.0698\n",
            "Epoch  22 ; train loss =  5.9565018363952635 ; validation loss =  0.3161043970584869 ; accuracy =  0.0732\n",
            "Epoch  23 ; train loss =  5.9232253038406375 ; validation loss =  0.31364202666282653 ; accuracy =  0.0769\n",
            "Epoch  24 ; train loss =  5.901464639663696 ; validation loss =  0.3111959499835968 ; accuracy =  0.0804\n",
            "Epoch  25 ; train loss =  5.868421056747437 ; validation loss =  0.3088673909664154 ; accuracy =  0.0823\n",
            "Epoch  26 ; train loss =  5.828191170120239 ; validation loss =  0.3064630024433136 ; accuracy =  0.0847\n",
            "Epoch  27 ; train loss =  5.799282579612732 ; validation loss =  0.30416399331092836 ; accuracy =  0.0868\n",
            "Epoch  28 ; train loss =  5.769329493141174 ; validation loss =  0.30186251587867735 ; accuracy =  0.0892\n",
            "Epoch  29 ; train loss =  5.724118115806579 ; validation loss =  0.2996601146697998 ; accuracy =  0.0911\n",
            "Epoch  30 ; train loss =  5.691184631919861 ; validation loss =  0.2973399318218231 ; accuracy =  0.093\n",
            "Epoch  31 ; train loss =  5.685452021408081 ; validation loss =  0.2953445072889328 ; accuracy =  0.096\n",
            "Epoch  32 ; train loss =  5.653654235076904 ; validation loss =  0.29324023513793945 ; accuracy =  0.0989\n",
            "Epoch  33 ; train loss =  5.626567872619629 ; validation loss =  0.29107703597545626 ; accuracy =  0.1017\n",
            "Epoch  34 ; train loss =  5.595590140342712 ; validation loss =  0.2888652995109558 ; accuracy =  0.104\n",
            "Epoch  35 ; train loss =  5.580423009109497 ; validation loss =  0.28667473788261416 ; accuracy =  0.1073\n",
            "Epoch  36 ; train loss =  5.531123034763336 ; validation loss =  0.2844517197608948 ; accuracy =  0.1095\n",
            "Epoch  37 ; train loss =  5.519906113147735 ; validation loss =  0.28237071020603177 ; accuracy =  0.1121\n",
            "Epoch  38 ; train loss =  5.516468704605103 ; validation loss =  0.28045269410610196 ; accuracy =  0.1144\n",
            "Epoch  39 ; train loss =  5.47713015756607 ; validation loss =  0.27844637217521667 ; accuracy =  0.1171\n",
            "Epoch  40 ; train loss =  5.438234402656555 ; validation loss =  0.27636141765117644 ; accuracy =  0.1195\n",
            "Epoch  41 ; train loss =  5.426277943897247 ; validation loss =  0.27420177392959594 ; accuracy =  0.1224\n",
            "Epoch  42 ; train loss =  5.394330786705017 ; validation loss =  0.2721209985256195 ; accuracy =  0.1247\n",
            "Epoch  43 ; train loss =  5.365073381137848 ; validation loss =  0.2700915662288666 ; accuracy =  0.1269\n",
            "Epoch  44 ; train loss =  5.3532056053161625 ; validation loss =  0.26821976449489593 ; accuracy =  0.1303\n",
            "Epoch  45 ; train loss =  5.340828846549988 ; validation loss =  0.2663803808450699 ; accuracy =  0.1316\n",
            "Epoch  46 ; train loss =  5.317076065540314 ; validation loss =  0.2644545674562454 ; accuracy =  0.1343\n",
            "Epoch  47 ; train loss =  5.28561950044632 ; validation loss =  0.2624004945039749 ; accuracy =  0.136\n",
            "Epoch  48 ; train loss =  5.285816650676727 ; validation loss =  0.260566335105896 ; accuracy =  0.1371\n",
            "Epoch  49 ; train loss =  5.227415269470215 ; validation loss =  0.25857851254940034 ; accuracy =  0.1392\n",
            "Epoch  50 ; train loss =  5.230530490684509 ; validation loss =  0.2567797407627106 ; accuracy =  0.1411\n",
            "Epoch  51 ; train loss =  5.198035336589813 ; validation loss =  0.25511459474563597 ; accuracy =  0.1427\n",
            "Epoch  52 ; train loss =  5.196738280582428 ; validation loss =  0.2534000993728638 ; accuracy =  0.1433\n",
            "Epoch  53 ; train loss =  5.162848685264588 ; validation loss =  0.2516281640291214 ; accuracy =  0.145\n",
            "Epoch  54 ; train loss =  5.149211162757873 ; validation loss =  0.24981933057308198 ; accuracy =  0.1451\n",
            "Epoch  55 ; train loss =  5.131881915187836 ; validation loss =  0.24810684072971345 ; accuracy =  0.1446\n",
            "Epoch  56 ; train loss =  5.125084283542633 ; validation loss =  0.24644840984344482 ; accuracy =  0.1443\n",
            "Epoch  57 ; train loss =  5.084632611465454 ; validation loss =  0.24471829171180726 ; accuracy =  0.144\n",
            "Epoch  58 ; train loss =  5.070900554561615 ; validation loss =  0.24300999732017517 ; accuracy =  0.1447\n",
            "Epoch  59 ; train loss =  5.0469492491722105 ; validation loss =  0.24134959061145783 ; accuracy =  0.1457\n",
            "Epoch  60 ; train loss =  5.033024246501923 ; validation loss =  0.2395926390171051 ; accuracy =  0.1457\n",
            "Epoch  61 ; train loss =  5.022960301589966 ; validation loss =  0.23796397337913514 ; accuracy =  0.1468\n",
            "Epoch  62 ; train loss =  5.00771236038208 ; validation loss =  0.23631969707012176 ; accuracy =  0.147\n",
            "Epoch  63 ; train loss =  4.981145476818084 ; validation loss =  0.23478282544612886 ; accuracy =  0.1467\n",
            "Epoch  64 ; train loss =  4.971993855667114 ; validation loss =  0.23317329449653626 ; accuracy =  0.1465\n",
            "Epoch  65 ; train loss =  4.961091612720489 ; validation loss =  0.23157671535015106 ; accuracy =  0.1495\n",
            "Epoch  66 ; train loss =  4.916098350334168 ; validation loss =  0.2300007263660431 ; accuracy =  0.1499\n",
            "Epoch  67 ; train loss =  4.912912265586853 ; validation loss =  0.22849408848285674 ; accuracy =  0.1503\n",
            "Epoch  68 ; train loss =  4.899588185977936 ; validation loss =  0.2269235891342163 ; accuracy =  0.1512\n",
            "Epoch  69 ; train loss =  4.864533504009247 ; validation loss =  0.22531236491203308 ; accuracy =  0.1512\n",
            "Epoch  70 ; train loss =  4.876808985042572 ; validation loss =  0.22386020345687865 ; accuracy =  0.1514\n",
            "Epoch  71 ; train loss =  4.845516367530823 ; validation loss =  0.22239712769985198 ; accuracy =  0.1513\n",
            "Epoch  72 ; train loss =  4.810721399593353 ; validation loss =  0.2207800661802292 ; accuracy =  0.1504\n",
            "Epoch  73 ; train loss =  4.809267887115478 ; validation loss =  0.21937797014713287 ; accuracy =  0.1498\n",
            "Epoch  74 ; train loss =  4.804235223197937 ; validation loss =  0.21804200594425202 ; accuracy =  0.1489\n",
            "Epoch  75 ; train loss =  4.775188295078277 ; validation loss =  0.21660844914913177 ; accuracy =  0.1494\n",
            "Epoch  76 ; train loss =  4.775371205711365 ; validation loss =  0.21535428869724274 ; accuracy =  0.1495\n",
            "Epoch  77 ; train loss =  4.749570711708069 ; validation loss =  0.2140193992137909 ; accuracy =  0.1503\n",
            "Epoch  78 ; train loss =  4.729972467803955 ; validation loss =  0.21268113758563995 ; accuracy =  0.15\n",
            "Epoch  79 ; train loss =  4.72450242023468 ; validation loss =  0.21140668609142305 ; accuracy =  0.1512\n",
            "Epoch  80 ; train loss =  4.726307717514038 ; validation loss =  0.21020630733966827 ; accuracy =  0.1519\n",
            "Epoch  81 ; train loss =  4.701651924991608 ; validation loss =  0.20893770501613618 ; accuracy =  0.1523\n",
            "Epoch  82 ; train loss =  4.679568490505218 ; validation loss =  0.20765436663627623 ; accuracy =  0.1537\n",
            "Epoch  83 ; train loss =  4.681689780521393 ; validation loss =  0.20642490322589874 ; accuracy =  0.1543\n",
            "Epoch  84 ; train loss =  4.674239561748505 ; validation loss =  0.20525365016460417 ; accuracy =  0.1558\n",
            "Epoch  85 ; train loss =  4.649345007324219 ; validation loss =  0.20403676254749298 ; accuracy =  0.157\n",
            "Epoch  86 ; train loss =  4.612108074760437 ; validation loss =  0.2028065733194351 ; accuracy =  0.157\n",
            "Epoch  87 ; train loss =  4.609367295169831 ; validation loss =  0.201623091340065 ; accuracy =  0.157\n",
            "Epoch  88 ; train loss =  4.5976009503364565 ; validation loss =  0.20038900258541106 ; accuracy =  0.157\n",
            "Epoch  89 ; train loss =  4.5746471361160275 ; validation loss =  0.1991956491947174 ; accuracy =  0.1574\n",
            "Epoch  90 ; train loss =  4.572885063457489 ; validation loss =  0.19805617430210112 ; accuracy =  0.1577\n",
            "Epoch  91 ; train loss =  4.564215088272094 ; validation loss =  0.19686098930835724 ; accuracy =  0.1572\n",
            "Epoch  92 ; train loss =  4.568779180335999 ; validation loss =  0.19578820860385895 ; accuracy =  0.1583\n",
            "Epoch  93 ; train loss =  4.527832372474671 ; validation loss =  0.1947012490272522 ; accuracy =  0.1584\n",
            "Epoch  94 ; train loss =  4.519809828662872 ; validation loss =  0.19356074259281159 ; accuracy =  0.1584\n",
            "Epoch  95 ; train loss =  4.519115827178955 ; validation loss =  0.19243074886798858 ; accuracy =  0.1584\n",
            "Epoch  96 ; train loss =  4.506268836402893 ; validation loss =  0.19131806845664978 ; accuracy =  0.1593\n",
            "Epoch  97 ; train loss =  4.472683513736725 ; validation loss =  0.19015873174667358 ; accuracy =  0.1586\n",
            "Epoch  98 ; train loss =  4.464431048202514 ; validation loss =  0.18905085718631745 ; accuracy =  0.16\n",
            "Epoch  99 ; train loss =  4.4416847305297855 ; validation loss =  0.1879394296169281 ; accuracy =  0.16\n",
            "Finished Training and save the model as `modelNN.pth`\n"
          ]
        }
      ],
      "source": [
        "###############################################\n",
        "#   * Fixer les paramètres de l'entraînement   #\n",
        "###############################################\n",
        "squeeze.to(device)\n",
        "criterion = nn.CrossEntropyLoss()\n",
        "optimizer = optim.SGD(squeeze.parameters(), lr=1e-8, momentum=0.9)\n",
        "nb_epoch = 100 # Le nombre d'epoch\n",
        "loss_list = [] # liste qui va contenir la valeur du loss a chaque epoch\n",
        "accuracy_list = []\n",
        "val_loss_list =[]\n",
        "\n",
        "for epoch in range(nb_epoch):  # loop over the dataset multiple times\n",
        "\n",
        "    running_loss = 0.0\n",
        "    nb_data = 0.\n",
        "    squeeze.train()\n",
        "    for i, data in enumerate(trainloader, 0):\n",
        "        # get the inputs; data is a list of [inputs, labels]\n",
        "        inputs, labels = data\n",
        "        \n",
        "        # zero the parameter gradients\n",
        "        optimizer.zero_grad()\n",
        "\n",
        "        inputs, labels = inputs.to(device), labels.to(device)\n",
        "        \n",
        "\n",
        "        # forward + backward + optimize\n",
        "        outputs = squeeze(inputs)              # Forward\n",
        "        loss = criterion(outputs, labels)\n",
        "        loss.backward()                    # Backward\n",
        "        optimizer.step()                   # optimize\n",
        " \n",
        "        # print statistics\n",
        "        running_loss += loss.item()\n",
        "        \n",
        "        nb_data += 1.\n",
        "        \n",
        "    running_loss = running_loss / nb_data\n",
        "    loss_list.append(running_loss)  \n",
        "    \n",
        "    correct = 0.\n",
        "    total = 0.\n",
        "    val_loss =0.\n",
        "    squeeze.eval()\n",
        "    with torch.no_grad():\n",
        "\n",
        "        for data in valloader:\n",
        "            images, labels = data\n",
        "            images, labels = images.to(device), labels.to(device)\n",
        "            outputs = squeeze(images)\n",
        "            loss = criterion(outputs, labels)\n",
        "            val_loss += loss.item()\n",
        "            _, predicted = torch.max(outputs.data, 1)\n",
        "            total += labels.size(0)\n",
        "            correct += (predicted == labels).sum().item()\n",
        "    \n",
        "    accuracy_list.append(correct / total)\n",
        "    val_loss = val_loss / total\n",
        "    val_loss_list.append(val_loss)\n",
        "\n",
        "    \n",
        "    print(\"Epoch \", epoch, \"; train loss = \", running_loss, \"; validation loss = \", val_loss, \"; accuracy = \", correct / total) \n",
        "    \n",
        "torch.save({\n",
        "                'nb_epoch': nb_epoch,\n",
        "                'model' : net.state_dict(),\n",
        "                'listLoss': loss_list,\n",
        "            }, \"modelNN.pth\")\n",
        "\n",
        "print('Finished Training and save the model as `modelNN.pth`')"
      ]
    },
    {
      "cell_type": "code",
      "source": [
        "\n",
        "nb_epoch = 100 # Le nombre d'epoch\n",
        "\n",
        "for epoch in range(nb_epoch):  # loop over the dataset multiple times\n",
        "\n",
        "    running_loss = 0.0\n",
        "    nb_data = 0.\n",
        "    squeeze.train()\n",
        "    for i, data in enumerate(trainloader, 0):\n",
        "        # get the inputs; data is a list of [inputs, labels]\n",
        "        inputs, labels = data\n",
        "        \n",
        "        # zero the parameter gradients\n",
        "        optimizer.zero_grad()\n",
        "\n",
        "        inputs, labels = inputs.to(device), labels.to(device)\n",
        "        \n",
        "\n",
        "        # forward + backward + optimize\n",
        "        outputs = squeeze(inputs)              # Forward\n",
        "        loss = criterion(outputs, labels)\n",
        "        loss.backward()                    # Backward\n",
        "        optimizer.step()                   # optimize\n",
        " \n",
        "        # print statistics\n",
        "        running_loss += loss.item()\n",
        "        \n",
        "        nb_data += 1.\n",
        "        \n",
        "    running_loss = running_loss / nb_data\n",
        "    loss_list.append(running_loss)  \n",
        "    \n",
        "    correct = 0.\n",
        "    total = 0.\n",
        "    val_loss =0.\n",
        "    squeeze.eval()\n",
        "    with torch.no_grad():\n",
        "\n",
        "        for data in valloader:\n",
        "            images, labels = data\n",
        "            images, labels = images.to(device), labels.to(device)\n",
        "            outputs = squeeze(images)\n",
        "            loss = criterion(outputs, labels)\n",
        "            val_loss += loss.item()\n",
        "            _, predicted = torch.max(outputs.data, 1)\n",
        "            total += labels.size(0)\n",
        "            correct += (predicted == labels).sum().item()\n",
        "    \n",
        "    accuracy_list.append(correct / total)\n",
        "    val_loss = val_loss / total\n",
        "    val_loss_list.append(val_loss)\n",
        "\n",
        "    \n",
        "    print(\"Epoch \", epoch, \"; train loss = \", running_loss, \"; validation loss = \", val_loss, \"; accuracy = \", correct / total) \n",
        "    \n",
        "torch.save({\n",
        "                'nb_epoch': nb_epoch,\n",
        "                'model' : net.state_dict(),\n",
        "                'listLoss': loss_list,\n",
        "            }, \"modelNN.pth\")\n",
        "\n",
        "print('Finished Training and save the model as `modelNN.pth`')"
      ],
      "metadata": {
        "colab": {
          "base_uri": "https://localhost:8080/"
        },
        "id": "q_Sx701d8oGs",
        "outputId": "9b3228a0-c344-49ff-aba0-703fcc92d42b"
      },
      "execution_count": 91,
      "outputs": [
        {
          "output_type": "stream",
          "name": "stdout",
          "text": [
            "Epoch  0 ; train loss =  4.448615445232392 ; validation loss =  0.18687267735004426 ; accuracy =  0.1601\n",
            "Epoch  1 ; train loss =  4.424002187347412 ; validation loss =  0.1858194338321686 ; accuracy =  0.1593\n",
            "Epoch  2 ; train loss =  4.42813560962677 ; validation loss =  0.18472351191043854 ; accuracy =  0.1588\n",
            "Epoch  3 ; train loss =  4.410881905937194 ; validation loss =  0.18365219218730927 ; accuracy =  0.1592\n",
            "Epoch  4 ; train loss =  4.373496229171753 ; validation loss =  0.1825789296388626 ; accuracy =  0.1595\n",
            "Epoch  5 ; train loss =  4.3687778020858765 ; validation loss =  0.1815479915380478 ; accuracy =  0.1599\n",
            "Epoch  6 ; train loss =  4.367068275260925 ; validation loss =  0.18048614203929902 ; accuracy =  0.1594\n",
            "Epoch  7 ; train loss =  4.360101202106476 ; validation loss =  0.17946554005146026 ; accuracy =  0.1581\n",
            "Epoch  8 ; train loss =  4.336679583835601 ; validation loss =  0.17838987295627595 ; accuracy =  0.1584\n",
            "Epoch  9 ; train loss =  4.328995828533173 ; validation loss =  0.17739042210578918 ; accuracy =  0.1586\n",
            "Epoch  10 ; train loss =  4.31350766248703 ; validation loss =  0.17637661473751068 ; accuracy =  0.1596\n",
            "Epoch  11 ; train loss =  4.304146946334839 ; validation loss =  0.17534879004955292 ; accuracy =  0.1585\n",
            "Epoch  12 ; train loss =  4.274795551109314 ; validation loss =  0.1743069099664688 ; accuracy =  0.1581\n",
            "Epoch  13 ; train loss =  4.285789121437073 ; validation loss =  0.17331247396469115 ; accuracy =  0.1575\n",
            "Epoch  14 ; train loss =  4.26926334104538 ; validation loss =  0.17232002987861633 ; accuracy =  0.1588\n",
            "Epoch  15 ; train loss =  4.249694546699524 ; validation loss =  0.17130978436470032 ; accuracy =  0.1585\n",
            "Epoch  16 ; train loss =  4.234854594039917 ; validation loss =  0.17034865777492522 ; accuracy =  0.1587\n",
            "Epoch  17 ; train loss =  4.22188051700592 ; validation loss =  0.16940546987056732 ; accuracy =  0.1581\n",
            "Epoch  18 ; train loss =  4.221560544586182 ; validation loss =  0.1684234751701355 ; accuracy =  0.1572\n",
            "Epoch  19 ; train loss =  4.205469845294952 ; validation loss =  0.16745298449993135 ; accuracy =  0.1587\n",
            "Epoch  20 ; train loss =  4.191541681289673 ; validation loss =  0.1665125943660736 ; accuracy =  0.1592\n",
            "Epoch  21 ; train loss =  4.159113925743103 ; validation loss =  0.1655405699491501 ; accuracy =  0.1595\n",
            "Epoch  22 ; train loss =  4.167283769989013 ; validation loss =  0.16460427856445312 ; accuracy =  0.1601\n",
            "Epoch  23 ; train loss =  4.155625540447235 ; validation loss =  0.16371000092029572 ; accuracy =  0.1593\n",
            "Epoch  24 ; train loss =  4.140374125099182 ; validation loss =  0.16279342079162598 ; accuracy =  0.1595\n",
            "Epoch  25 ; train loss =  4.1345142608642576 ; validation loss =  0.16191465229988097 ; accuracy =  0.1604\n",
            "Epoch  26 ; train loss =  4.116303962516785 ; validation loss =  0.16107166991233826 ; accuracy =  0.1596\n",
            "Epoch  27 ; train loss =  4.088703850841522 ; validation loss =  0.16023631618022918 ; accuracy =  0.159\n",
            "Epoch  28 ; train loss =  4.0862749861717225 ; validation loss =  0.15944463863372801 ; accuracy =  0.1598\n",
            "Epoch  29 ; train loss =  4.06291075000763 ; validation loss =  0.1587059452533722 ; accuracy =  0.1601\n",
            "Epoch  30 ; train loss =  4.055017128276825 ; validation loss =  0.1579681944847107 ; accuracy =  0.161\n",
            "Epoch  31 ; train loss =  4.064659271812439 ; validation loss =  0.15725439898967744 ; accuracy =  0.1602\n",
            "Epoch  32 ; train loss =  4.043753010749817 ; validation loss =  0.15658673763275147 ; accuracy =  0.1596\n",
            "Epoch  33 ; train loss =  4.028345394706726 ; validation loss =  0.15591724305152893 ; accuracy =  0.1605\n",
            "Epoch  34 ; train loss =  4.0242335698127745 ; validation loss =  0.15529344096183778 ; accuracy =  0.1611\n",
            "Epoch  35 ; train loss =  4.027137978935242 ; validation loss =  0.15471002049446106 ; accuracy =  0.1612\n",
            "Epoch  36 ; train loss =  4.009378145599365 ; validation loss =  0.15413247420787812 ; accuracy =  0.1611\n",
            "Epoch  37 ; train loss =  3.994101765060425 ; validation loss =  0.15359233918190002 ; accuracy =  0.1619\n",
            "Epoch  38 ; train loss =  3.975059943294525 ; validation loss =  0.15307190856933595 ; accuracy =  0.1625\n",
            "Epoch  39 ; train loss =  3.975293829727173 ; validation loss =  0.152575444149971 ; accuracy =  0.1623\n",
            "Epoch  40 ; train loss =  3.9792905017852784 ; validation loss =  0.15210653042793273 ; accuracy =  0.1634\n",
            "Epoch  41 ; train loss =  3.955938486480713 ; validation loss =  0.15163561458587646 ; accuracy =  0.1626\n",
            "Epoch  42 ; train loss =  3.9836024567604067 ; validation loss =  0.151205264377594 ; accuracy =  0.1635\n",
            "Epoch  43 ; train loss =  3.94114425868988 ; validation loss =  0.1507851644039154 ; accuracy =  0.163\n",
            "Epoch  44 ; train loss =  3.9468185056686402 ; validation loss =  0.15040377473831176 ; accuracy =  0.1634\n",
            "Epoch  45 ; train loss =  3.9329320534706116 ; validation loss =  0.1500156807422638 ; accuracy =  0.1641\n",
            "Epoch  46 ; train loss =  3.927599766159058 ; validation loss =  0.14965372458696366 ; accuracy =  0.1649\n",
            "Epoch  47 ; train loss =  3.9029247961044313 ; validation loss =  0.14931624614000322 ; accuracy =  0.1641\n",
            "Epoch  48 ; train loss =  3.9072750952720643 ; validation loss =  0.14898511164188386 ; accuracy =  0.1649\n",
            "Epoch  49 ; train loss =  3.903052121925354 ; validation loss =  0.1486743523836136 ; accuracy =  0.1656\n",
            "Epoch  50 ; train loss =  3.8867959966659544 ; validation loss =  0.14836505405902864 ; accuracy =  0.1657\n",
            "Epoch  51 ; train loss =  3.8840259016036986 ; validation loss =  0.1480552280306816 ; accuracy =  0.1665\n",
            "Epoch  52 ; train loss =  3.881352159500122 ; validation loss =  0.14777269027233123 ; accuracy =  0.1669\n",
            "Epoch  53 ; train loss =  3.8698409565925598 ; validation loss =  0.14747200002670288 ; accuracy =  0.1682\n",
            "Epoch  54 ; train loss =  3.8647330226898196 ; validation loss =  0.1472134904384613 ; accuracy =  0.169\n",
            "Epoch  55 ; train loss =  3.871794198989868 ; validation loss =  0.1469645475625992 ; accuracy =  0.1693\n",
            "Epoch  56 ; train loss =  3.865485500240326 ; validation loss =  0.14670129123926162 ; accuracy =  0.1693\n",
            "Epoch  57 ; train loss =  3.8402133606910707 ; validation loss =  0.14644593251943588 ; accuracy =  0.1691\n",
            "Epoch  58 ; train loss =  3.8190635993003843 ; validation loss =  0.14618396623134614 ; accuracy =  0.1695\n",
            "Epoch  59 ; train loss =  3.821981114578247 ; validation loss =  0.1459880362391472 ; accuracy =  0.1684\n",
            "Epoch  60 ; train loss =  3.8155988916397097 ; validation loss =  0.14573404113054275 ; accuracy =  0.1698\n",
            "Epoch  61 ; train loss =  3.8138777948379516 ; validation loss =  0.14551776928901672 ; accuracy =  0.1705\n",
            "Epoch  62 ; train loss =  3.805776905441284 ; validation loss =  0.14528994846343996 ; accuracy =  0.1702\n",
            "Epoch  63 ; train loss =  3.788536214351654 ; validation loss =  0.1450810272336006 ; accuracy =  0.1712\n",
            "Epoch  64 ; train loss =  3.787509935092926 ; validation loss =  0.14486738520860673 ; accuracy =  0.1713\n",
            "Epoch  65 ; train loss =  3.770128362083435 ; validation loss =  0.14465301431417465 ; accuracy =  0.1721\n",
            "Epoch  66 ; train loss =  3.771175417137146 ; validation loss =  0.1444569663286209 ; accuracy =  0.1723\n",
            "Epoch  67 ; train loss =  3.771332615947723 ; validation loss =  0.14425257369279862 ; accuracy =  0.173\n",
            "Epoch  68 ; train loss =  3.759449986362457 ; validation loss =  0.1440599905848503 ; accuracy =  0.1732\n",
            "Epoch  69 ; train loss =  3.740692415046692 ; validation loss =  0.1438746668577194 ; accuracy =  0.1743\n",
            "Epoch  70 ; train loss =  3.7405779418945313 ; validation loss =  0.14371437593698502 ; accuracy =  0.1752\n",
            "Epoch  71 ; train loss =  3.7119386984825136 ; validation loss =  0.14352701964378356 ; accuracy =  0.1745\n",
            "Epoch  72 ; train loss =  3.7269167066574096 ; validation loss =  0.14332853767871856 ; accuracy =  0.1745\n",
            "Epoch  73 ; train loss =  3.7218727655410766 ; validation loss =  0.14315180568695068 ; accuracy =  0.1743\n",
            "Epoch  74 ; train loss =  3.7112678236961365 ; validation loss =  0.14296332796812058 ; accuracy =  0.1748\n",
            "Epoch  75 ; train loss =  3.7124037139892576 ; validation loss =  0.14279560697078705 ; accuracy =  0.1749\n",
            "Epoch  76 ; train loss =  3.7094284569740297 ; validation loss =  0.14263877536058425 ; accuracy =  0.1752\n",
            "Epoch  77 ; train loss =  3.6936721477508545 ; validation loss =  0.14248585580587386 ; accuracy =  0.1756\n",
            "Epoch  78 ; train loss =  3.6807126364707945 ; validation loss =  0.1423382422924042 ; accuracy =  0.1758\n",
            "Epoch  79 ; train loss =  3.681706059074402 ; validation loss =  0.14218826690912248 ; accuracy =  0.1755\n",
            "Epoch  80 ; train loss =  3.659945464992523 ; validation loss =  0.14202848181724548 ; accuracy =  0.1759\n",
            "Epoch  81 ; train loss =  3.653021483707428 ; validation loss =  0.14185637640953064 ; accuracy =  0.1759\n",
            "Epoch  82 ; train loss =  3.638856687450409 ; validation loss =  0.14170834410190583 ; accuracy =  0.176\n",
            "Epoch  83 ; train loss =  3.642778638935089 ; validation loss =  0.1415792707681656 ; accuracy =  0.1763\n",
            "Epoch  84 ; train loss =  3.6341617386817933 ; validation loss =  0.14142874977588654 ; accuracy =  0.1763\n",
            "Epoch  85 ; train loss =  3.6234151585578918 ; validation loss =  0.14130159060955047 ; accuracy =  0.1766\n",
            "Epoch  86 ; train loss =  3.6234970180511477 ; validation loss =  0.14116186279058457 ; accuracy =  0.1766\n",
            "Epoch  87 ; train loss =  3.6029711778640747 ; validation loss =  0.14102234134674071 ; accuracy =  0.1765\n",
            "Epoch  88 ; train loss =  3.609354077529907 ; validation loss =  0.14088511033058165 ; accuracy =  0.177\n",
            "Epoch  89 ; train loss =  3.6007022702217104 ; validation loss =  0.14075961748361587 ; accuracy =  0.1776\n",
            "Epoch  90 ; train loss =  3.583043142700195 ; validation loss =  0.1406382097005844 ; accuracy =  0.1781\n",
            "Epoch  91 ; train loss =  3.5698410696983336 ; validation loss =  0.14050493443012238 ; accuracy =  0.1778\n",
            "Epoch  92 ; train loss =  3.571645478630066 ; validation loss =  0.14038083666563034 ; accuracy =  0.1785\n",
            "Epoch  93 ; train loss =  3.5607921808242797 ; validation loss =  0.14024377635717392 ; accuracy =  0.1788\n",
            "Epoch  94 ; train loss =  3.5508597685813905 ; validation loss =  0.14014892991781236 ; accuracy =  0.179\n",
            "Epoch  95 ; train loss =  3.5565233098983766 ; validation loss =  0.1400551332831383 ; accuracy =  0.1784\n",
            "Epoch  96 ; train loss =  3.5324434825897217 ; validation loss =  0.13993904402256013 ; accuracy =  0.1787\n",
            "Epoch  97 ; train loss =  3.534664872646332 ; validation loss =  0.13983901908397675 ; accuracy =  0.1789\n",
            "Epoch  98 ; train loss =  3.521245562839508 ; validation loss =  0.13973647491931915 ; accuracy =  0.1784\n",
            "Epoch  99 ; train loss =  3.5162491707801817 ; validation loss =  0.1396564675450325 ; accuracy =  0.1785\n",
            "Finished Training and save the model as `modelNN.pth`\n"
          ]
        }
      ]
    },
    {
      "cell_type": "code",
      "source": [
        "plt.plot()\n",
        "plt.plot(range(len(loss_list)), loss_list)\n",
        "\n",
        "plt.xlabel(\"Epochs\")\n",
        "plt.ylabel(\"Loss\")\n",
        "plt.title(\"loss curve\")\n",
        "plt.show()\n",
        "plt.plot()\n",
        "plt.plot(range(len(accuracy_list)), accuracy_list)\n",
        "\n",
        "plt.xlabel(\"Epochs\")\n",
        "plt.ylabel(\"Accuracy\")\n",
        "plt.title(\"accuracy curve\")\n",
        "\n",
        "\n",
        "\n",
        "\n",
        "\n",
        "plt.show()"
      ],
      "metadata": {
        "colab": {
          "base_uri": "https://localhost:8080/",
          "height": 573
        },
        "id": "lrvIxVwBBjUg",
        "outputId": "664b27c8-5e1b-4212-b3a1-f5363c8c5117"
      },
      "execution_count": 92,
      "outputs": [
        {
          "output_type": "display_data",
          "data": {
            "image/png": "[encoded data removed]",
            "text/plain": [
              "<Figure size 432x288 with 1 Axes>"
            ]
          },
          "metadata": {
            "needs_background": "light"
          }
        },
        {
          "output_type": "display_data",
          "data": {
            "image/png": "[encoded data removed]",
            "text/plain": [
              "<Figure size 432x288 with 1 Axes>"
            ]
          },
          "metadata": {
            "needs_background": "light"
          }
        }
      ]
    },
    {
      "cell_type": "markdown",
      "metadata": {
        "id": "EB8RxWltnTlf"
      },
      "source": [
        "# BONUS : Results improvments\n",
        "\n",
        "---\n",
        "\n"
      ]
    },
    {
      "cell_type": "markdown",
      "metadata": {
        "id": "7uaa6-7joxvD"
      },
      "source": [
        "## Data augmentation"
      ]
    },
    {
      "cell_type": "code",
      "execution_count": 36,
      "metadata": {
        "colab": {
          "base_uri": "https://localhost:8080/"
        },
        "id": "CrAqMSzmnvOs",
        "outputId": "6788522b-459a-4901-bf26-3f97a83f2777"
      },
      "outputs": [
        {
          "output_type": "stream",
          "name": "stdout",
          "text": [
            "Files already downloaded and verified\n",
            "Files already downloaded and verified\n"
          ]
        }
      ],
      "source": [
        "from torch.utils.data import random_split\n",
        "transform = transforms.Compose(\n",
        "    [\n",
        "     \n",
        "     transforms.RandomHorizontalFlip(),\n",
        "     transforms.RandomVerticalFlip(),\n",
        "     transforms.RandomRotation(15),\n",
        "     \n",
        "     transforms.ToTensor(),\n",
        "     transforms.Normalize([0.485, 0.456, 0.406], [0.229, 0.224, 0.225])]\n",
        ")\n",
        "\n",
        "\n",
        "trainset = torchvision.datasets.CIFAR10(root='./data', train=True, download=True, transform=transform)\n",
        "val_size = len(trainset)*0.2\n",
        "train_size = len(trainset)-val_size\n",
        "val_size, train_size = int(val_size), int(train_size)\n",
        "train_ds, val_ds = random_split(trainset, [train_size, val_size])\n",
        "len(train_ds), len(val_ds)\n",
        "\n",
        "testset = torchvision.datasets.CIFAR10(root='./data', train=False, download=True, transform=transform)\n",
        "\n",
        "trainloader = torch.utils.data.DataLoader(train_ds, batch_size=128, shuffle=True, num_workers=2)\n",
        "valloader = torch.utils.data.DataLoader(val_ds, batch_size=128, shuffle=True, num_workers=2)\n",
        "testloader = torch.utils.data.DataLoader(testset, batch_size=128, shuffle=False, num_workers=2)"
      ]
    },
    {
      "cell_type": "code",
      "execution_count": 56,
      "metadata": {
        "id": "UO5dyHzHu1w9"
      },
      "outputs": [],
      "source": [
        "\n",
        "class CNN(nn.Module):\n",
        "   \n",
        "\n",
        "    def __init__(self):\n",
        "        \n",
        "        super(CNN, self).__init__()\n",
        "\n",
        "        self.conv_layer = nn.Sequential(\n",
        "\n",
        "            # Conv Layer block 1\n",
        "            nn.Conv2d(in_channels=3, out_channels=32, kernel_size=3, padding=1),\n",
        "           \n",
        "            nn.ReLU(inplace=True),\n",
        "            nn.Conv2d(in_channels=32, out_channels=64, kernel_size=3, padding=1),\n",
        "            nn.ReLU(inplace=True),\n",
        "            nn.MaxPool2d(kernel_size=2, stride=2),\n",
        "\n",
        "            # Conv Layer block 2\n",
        "            nn.Conv2d(in_channels=64, out_channels=128, kernel_size=3, padding=1),\n",
        "          \n",
        "            nn.ReLU(inplace=True),\n",
        "            nn.Conv2d(in_channels=128, out_channels=128, kernel_size=3, padding=1),\n",
        "            nn.ReLU(inplace=True),\n",
        "            nn.MaxPool2d(kernel_size=2, stride=2),\n",
        "           \n",
        "            # Conv Layer block 3\n",
        "            nn.Conv2d(in_channels=128, out_channels=256, kernel_size=3, padding=1),\n",
        "     \n",
        "            nn.ReLU(inplace=True),\n",
        "            nn.Conv2d(in_channels=256, out_channels=256, kernel_size=3, padding=1),\n",
        "            nn.ReLU(inplace=True),\n",
        "            nn.MaxPool2d(kernel_size=2, stride=2),\n",
        "        )\n",
        "\n",
        "\n",
        "        self.fc_layer = nn.Sequential(\n",
        "    \n",
        "            nn.Linear(4096, 1024),\n",
        "            nn.ReLU(inplace=True),\n",
        "            nn.Linear(1024, 512),\n",
        "            nn.ReLU(inplace=True),\n",
        "    \n",
        "            nn.Linear(512, 10)\n",
        "        )\n",
        "\n",
        "\n",
        "    def forward(self, x):\n",
        "        \"\"\"Perform forward.\"\"\"\n",
        "        \n",
        "        \n",
        "        # conv layers\n",
        "        x = self.conv_layer(x)\n",
        "        \n",
        "        # flatten\n",
        "        x = x.view(x.size(0), -1)\n",
        "        \n",
        "        # fc layer\n",
        "        x = self.fc_layer(x)\n",
        "\n",
        "        return x\n",
        "\n",
        "net = CNN().to(device)"
      ]
    },
    {
      "cell_type": "code",
      "execution_count": 37,
      "metadata": {
        "id": "88kHmeGKvBo-"
      },
      "outputs": [],
      "source": [
        "def train (model, nb_epoch): \n",
        "    ###############################################\n",
        "  #   * Fixer les paramètres de l'entraînement   #\n",
        "  ###############################################\n",
        "  model.to(device)\n",
        "  criterion = nn.CrossEntropyLoss()\n",
        "  optimizer = optim.SGD(model.parameters(), lr=0.01, momentum=0.9)\n",
        "\n",
        "  loss_list = [] # liste qui va contenir la valeur du loss a chaque epoch\n",
        "  accuracy_list = []\n",
        "  val_loss_list =[]\n",
        "\n",
        "  for epoch in range(nb_epoch):  # loop over the dataset multiple times\n",
        "\n",
        "      running_loss = 0.0\n",
        "      nb_data = 0.\n",
        "      for i, data in enumerate(trainloader, 0):\n",
        "          # get the inputs; data is a list of [inputs, labels]\n",
        "          inputs, labels = data\n",
        "          \n",
        "          # zero the parameter gradients\n",
        "          optimizer.zero_grad()\n",
        "\n",
        "          inputs, labels = inputs.to(device), labels.to(device)\n",
        "          \n",
        "\n",
        "          # forward + backward + optimize\n",
        "          outputs = model(inputs)              # Forward\n",
        "          loss = criterion(outputs, labels)\n",
        "          loss.backward()                    # Backward\n",
        "          optimizer.step()                   # optimize\n",
        "  \n",
        "          # print statistics\n",
        "          running_loss += loss.item()\n",
        "          \n",
        "          nb_data += 1.\n",
        "          \n",
        "      running_loss = running_loss / nb_data\n",
        "      loss_list.append(running_loss)  \n",
        "      \n",
        "      correct = 0.\n",
        "      total = 0.\n",
        "      val_loss =0.\n",
        "      \n",
        "      with torch.no_grad():\n",
        "\n",
        "          for data in valloader:\n",
        "              images, labels = data\n",
        "              images, labels = images.to(device), labels.to(device)\n",
        "              outputs = model(images)\n",
        "              loss = criterion(outputs, labels)\n",
        "              val_loss += loss.item()\n",
        "              _, predicted = torch.max(outputs.data, 1)\n",
        "              total += labels.size(0)\n",
        "              correct += (predicted == labels).sum().item()\n",
        "      \n",
        "      accuracy_list.append(correct / total)\n",
        "      val_loss = val_loss / total\n",
        "      val_loss_list.append(val_loss)\n",
        "\n",
        "      \n",
        "      print(\"Epoch \", epoch, \"; train loss = \", running_loss, \"; validation loss = \", val_loss, \"; accuracy = \", correct / total) \n",
        "      \n",
        "  torch.save({\n",
        "                  'nb_epoch': nb_epoch,\n",
        "                  'model' : net.state_dict(),\n",
        "                  'listLoss': loss_list,\n",
        "              }, \"modelNN.pth\")\n",
        "\n",
        "  print('Finished Training and save the model as `modelNN.pth`')\n",
        "\n",
        "  return loss_list, accuracy_list\n"
      ]
    },
    {
      "cell_type": "code",
      "execution_count": 25,
      "metadata": {
        "colab": {
          "base_uri": "https://localhost:8080/"
        },
        "id": "qyFtP1gD3VZn",
        "outputId": "3c6e5596-c4a7-4fb0-ec56-519b1f459b66"
      },
      "outputs": [
        {
          "output_type": "stream",
          "name": "stdout",
          "text": [
            "Epoch  0 ; train loss =  1.9943201339244843 ; validation loss =  0.10892382736206055 ; accuracy =  0.3425\n",
            "Epoch  1 ; train loss =  1.5557323548316955 ; validation loss =  0.0889592785358429 ; accuracy =  0.4752\n",
            "Epoch  2 ; train loss =  1.3424258199214936 ; validation loss =  0.08155406789779664 ; accuracy =  0.5284\n",
            "Epoch  3 ; train loss =  1.1834657971143723 ; validation loss =  0.07345095405578614 ; accuracy =  0.5831\n",
            "Epoch  4 ; train loss =  1.071043485212326 ; validation loss =  0.06603082111477852 ; accuracy =  0.6249\n",
            "Epoch  5 ; train loss =  0.991503942322731 ; validation loss =  0.060745016032457355 ; accuracy =  0.6515\n",
            "Epoch  6 ; train loss =  0.9330955223679542 ; validation loss =  0.06216330821812153 ; accuracy =  0.657\n",
            "Epoch  7 ; train loss =  0.8870572229206563 ; validation loss =  0.05661101016998291 ; accuracy =  0.6845\n",
            "Epoch  8 ; train loss =  0.8575854267418385 ; validation loss =  0.053531671154499055 ; accuracy =  0.7076\n",
            "Epoch  9 ; train loss =  0.8421673277705908 ; validation loss =  0.05160830325484276 ; accuracy =  0.7158\n",
            "Epoch  10 ; train loss =  0.8205596069157124 ; validation loss =  0.05542824670374393 ; accuracy =  0.6941\n",
            "Epoch  11 ; train loss =  0.8099259234249592 ; validation loss =  0.05416885548532009 ; accuracy =  0.6976\n",
            "Epoch  12 ; train loss =  0.8049652883023024 ; validation loss =  0.05537259837538004 ; accuracy =  0.6967\n",
            "Epoch  13 ; train loss =  0.808645433050394 ; validation loss =  0.05832986291348934 ; accuracy =  0.6868\n",
            "Epoch  14 ; train loss =  0.821551016280055 ; validation loss =  0.055944501292705534 ; accuracy =  0.6979\n",
            "Epoch  15 ; train loss =  0.8297315813094378 ; validation loss =  0.05914600077271461 ; accuracy =  0.6809\n",
            "Epoch  16 ; train loss =  0.8331907139748335 ; validation loss =  0.05542440929412842 ; accuracy =  0.6995\n",
            "Epoch  17 ; train loss =  0.8573132993578911 ; validation loss =  0.05908570410609245 ; accuracy =  0.6751\n",
            "Epoch  18 ; train loss =  0.870071491843462 ; validation loss =  0.062929944036901 ; accuracy =  0.6633\n",
            "Epoch  19 ; train loss =  0.9063675734043122 ; validation loss =  0.0680860123515129 ; accuracy =  0.6398\n",
            "Epoch  20 ; train loss =  0.9337884913027287 ; validation loss =  0.06454459364414215 ; accuracy =  0.651\n",
            "Epoch  21 ; train loss =  0.9772998728394509 ; validation loss =  0.06638850855827332 ; accuracy =  0.6384\n",
            "Epoch  22 ; train loss =  1.013557871878147 ; validation loss =  0.07624596601128578 ; accuracy =  0.5935\n",
            "Epoch  23 ; train loss =  1.0627893374741078 ; validation loss =  0.07426511073112488 ; accuracy =  0.6126\n",
            "Epoch  24 ; train loss =  1.1525030298650265 ; validation loss =  0.07439677807986736 ; accuracy =  0.6084\n",
            "Epoch  25 ; train loss =  1.2270430537700654 ; validation loss =  0.08502124458551406 ; accuracy =  0.5386\n",
            "Epoch  26 ; train loss =  1.326884856081009 ; validation loss =  0.08687848347723484 ; accuracy =  0.5403\n",
            "Epoch  27 ; train loss =  1.4184086910128593 ; validation loss =  0.09264980155229569 ; accuracy =  0.4957\n",
            "Epoch  28 ; train loss =  1.502548641705513 ; validation loss =  0.09438994117975234 ; accuracy =  0.4879\n",
            "Epoch  29 ; train loss =  1.584813210439682 ; validation loss =  0.10479138934612274 ; accuracy =  0.4269\n",
            "Finished Training and save the model as `modelNN.pth`\n"
          ]
        }
      ],
      "source": [
        "net = CNN().to(device)\n",
        "loss_list, accuracy_list = train(net,30)"
      ]
    },
    {
      "cell_type": "code",
      "execution_count": 26,
      "metadata": {
        "id": "ZDaiggyx3Xmy",
        "colab": {
          "base_uri": "https://localhost:8080/",
          "height": 573
        },
        "outputId": "1c067e11-2cce-45ba-b22a-3e101cb43d12"
      },
      "outputs": [
        {
          "output_type": "display_data",
          "data": {
            "image/png": "[encoded data removed]",
            "text/plain": [
              "<Figure size 432x288 with 1 Axes>"
            ]
          },
          "metadata": {
            "needs_background": "light"
          }
        },
        {
          "output_type": "display_data",
          "data": {
            "image/png": "[encoded data removed]",
            "text/plain": [
              "<Figure size 432x288 with 1 Axes>"
            ]
          },
          "metadata": {
            "needs_background": "light"
          }
        }
      ],
      "source": [
        "plt.plot()\n",
        "plt.plot(range(len(loss_list)), loss_list)\n",
        "\n",
        "plt.xlabel(\"Epochs\")\n",
        "plt.ylabel(\"Loss\")\n",
        "plt.title(\"loss curve\")\n",
        "plt.show()\n",
        "plt.plot()\n",
        "plt.plot(range(len(accuracy_list)), accuracy_list)\n",
        "\n",
        "plt.xlabel(\"Epochs\")\n",
        "plt.ylabel(\"Accuracy\")\n",
        "plt.title(\"accuracy curve\")\n",
        "\n",
        "\n",
        "\n",
        "\n",
        "\n",
        "plt.show()"
      ]
    },
    {
      "cell_type": "markdown",
      "source": [
        "## Optimizer\n"
      ],
      "metadata": {
        "id": "x4_Y3RgmPk0M"
      }
    },
    {
      "cell_type": "markdown",
      "source": [
        "### 30 epochs"
      ],
      "metadata": {
        "id": "YfN4IJwqgTDS"
      }
    },
    {
      "cell_type": "code",
      "source": [
        "import torch.optim.lr_scheduler\n",
        "\n"
      ],
      "metadata": {
        "id": "rkKMw_cuTNS4"
      },
      "execution_count": 39,
      "outputs": []
    },
    {
      "cell_type": "code",
      "source": [
        "net = CNN().to(device)\n"
      ],
      "metadata": {
        "id": "cwrlZv8zVhIs"
      },
      "execution_count": 40,
      "outputs": []
    },
    {
      "cell_type": "code",
      "source": [
        "optimizer = optim.SGD(net.parameters(), lr=0.1, momentum=0.9)"
      ],
      "metadata": {
        "id": "WQcPeYuMTtiL"
      },
      "execution_count": 41,
      "outputs": []
    },
    {
      "cell_type": "code",
      "source": [
        "lr_sched = torch.optim.lr_scheduler.ExponentialLR(optimizer, gamma=0.95)"
      ],
      "metadata": {
        "id": "P0KrI1F8TzJD"
      },
      "execution_count": 42,
      "outputs": []
    },
    {
      "cell_type": "code",
      "source": [
        "def train (model, nb_epoch, optimizer): \n",
        "    ###############################################\n",
        "  #   * Fixer les paramètres de l'entraînement   #\n",
        "  ###############################################\n",
        "  model.to(device)\n",
        "  criterion = nn.CrossEntropyLoss()\n",
        "  \n",
        "\n",
        "  loss_list = [] # liste qui va contenir la valeur du loss a chaque epoch\n",
        "  accuracy_list = []\n",
        "  val_loss_list =[]\n",
        "\n",
        "  for epoch in range(nb_epoch):  # loop over the dataset multiple times\n",
        "\n",
        "      running_loss = 0.0\n",
        "      nb_data = 0.\n",
        "      for i, data in enumerate(trainloader, 0):\n",
        "          # get the inputs; data is a list of [inputs, labels]\n",
        "          inputs, labels = data\n",
        "          \n",
        "          # zero the parameter gradients\n",
        "          optimizer.zero_grad()\n",
        "\n",
        "          inputs, labels = inputs.to(device), labels.to(device)\n",
        "          \n",
        "\n",
        "          # forward + backward + optimize\n",
        "          outputs = model(inputs)              # Forward\n",
        "          loss = criterion(outputs, labels)\n",
        "          loss.backward()                    # Backward\n",
        "          optimizer.step()                   # optimize\n",
        "  \n",
        "          # print statistics\n",
        "          running_loss += loss.item()\n",
        "          \n",
        "          nb_data += 1.\n",
        "      \n",
        "      \n",
        "          \n",
        "      running_loss = running_loss / nb_data\n",
        "      loss_list.append(running_loss)  \n",
        "      \n",
        "      correct = 0.\n",
        "      total = 0.\n",
        "      val_loss =0.\n",
        "      \n",
        "      with torch.no_grad():\n",
        "\n",
        "          for data in valloader:\n",
        "              images, labels = data\n",
        "              images, labels = images.to(device), labels.to(device)\n",
        "              outputs = model(images)\n",
        "              loss = criterion(outputs, labels)\n",
        "              val_loss += loss.item()\n",
        "              _, predicted = torch.max(outputs.data, 1)\n",
        "              total += labels.size(0)\n",
        "              correct += (predicted == labels).sum().item()\n",
        "      \n",
        "      accuracy_list.append(correct / total)\n",
        "      val_loss = val_loss / total\n",
        "      val_loss_list.append(val_loss)\n",
        "      lr_sched.step()\n",
        "\n",
        "      \n",
        "\n",
        "      \n",
        "      print(\"Epoch \", epoch, \"; train loss = \", running_loss, \"; validation loss = \", val_loss, \"; accuracy = \", correct / total) \n",
        "      \n",
        "  torch.save({\n",
        "                  'nb_epoch': nb_epoch,\n",
        "                  'model' : net.state_dict(),\n",
        "                  'listLoss': loss_list,\n",
        "              }, \"modelNN.pth\")\n",
        "\n",
        "  print('Finished Training and save the model as `modelNN.pth`')\n",
        "\n",
        "  return loss_list, accuracy_list\n"
      ],
      "metadata": {
        "id": "FFaFxLLRTl6c"
      },
      "execution_count": 44,
      "outputs": []
    },
    {
      "cell_type": "code",
      "source": [
        "\n",
        "loss_list, accuracy_list = train (net,30, optimizer)"
      ],
      "metadata": {
        "colab": {
          "base_uri": "https://localhost:8080/"
        },
        "id": "8hZXKRS-UAAP",
        "outputId": "52c4655e-abe1-438e-811c-fe4f8762dc98"
      },
      "execution_count": 45,
      "outputs": [
        {
          "output_type": "stream",
          "name": "stdout",
          "text": [
            "Epoch  0 ; train loss =  2.160063032525035 ; validation loss =  0.016151675951480867 ; accuracy =  0.2431\n",
            "Epoch  1 ; train loss =  1.769780830453379 ; validation loss =  0.012694448053836823 ; accuracy =  0.4043\n",
            "Epoch  2 ; train loss =  1.5531840583386893 ; validation loss =  0.011688576638698578 ; accuracy =  0.4537\n",
            "Epoch  3 ; train loss =  1.3971326549213154 ; validation loss =  0.010905896389484405 ; accuracy =  0.4983\n",
            "Epoch  4 ; train loss =  1.2846674574449801 ; validation loss =  0.010155228316783905 ; accuracy =  0.5387\n",
            "Epoch  5 ; train loss =  1.176991121456646 ; validation loss =  0.009403755170106888 ; accuracy =  0.5664\n",
            "Epoch  6 ; train loss =  1.1138113064887805 ; validation loss =  0.008613062393665313 ; accuracy =  0.6117\n",
            "Epoch  7 ; train loss =  1.04722609630408 ; validation loss =  0.008349341994524003 ; accuracy =  0.6291\n",
            "Epoch  8 ; train loss =  0.9941221660318466 ; validation loss =  0.008122396087646484 ; accuracy =  0.6409\n",
            "Epoch  9 ; train loss =  0.9483898440108132 ; validation loss =  0.007983752435445786 ; accuracy =  0.649\n",
            "Epoch  10 ; train loss =  0.8875014185905457 ; validation loss =  0.007937774765491486 ; accuracy =  0.6545\n",
            "Epoch  11 ; train loss =  0.8455434062610419 ; validation loss =  0.007443242835998535 ; accuracy =  0.6777\n",
            "Epoch  12 ; train loss =  0.8044338283447412 ; validation loss =  0.007273773163557052 ; accuracy =  0.692\n",
            "Epoch  13 ; train loss =  0.7800540945019585 ; validation loss =  0.007054239681363106 ; accuracy =  0.6959\n",
            "Epoch  14 ; train loss =  0.7385053516576846 ; validation loss =  0.006511864978075027 ; accuracy =  0.7179\n",
            "Epoch  15 ; train loss =  0.7124398486873212 ; validation loss =  0.00656778766810894 ; accuracy =  0.7125\n",
            "Epoch  16 ; train loss =  0.6792841584156877 ; validation loss =  0.006516680961847305 ; accuracy =  0.7253\n",
            "Epoch  17 ; train loss =  0.6478124307557798 ; validation loss =  0.006136023104190826 ; accuracy =  0.7392\n",
            "Epoch  18 ; train loss =  0.6203421072457165 ; validation loss =  0.006275630336999893 ; accuracy =  0.7327\n",
            "Epoch  19 ; train loss =  0.5956744610691984 ; validation loss =  0.006402598333358765 ; accuracy =  0.7404\n",
            "Epoch  20 ; train loss =  0.5635027835925166 ; validation loss =  0.006195988339185715 ; accuracy =  0.7405\n",
            "Epoch  21 ; train loss =  0.5488962188315468 ; validation loss =  0.005817021244764328 ; accuracy =  0.7519\n",
            "Epoch  22 ; train loss =  0.5212606704844454 ; validation loss =  0.006267938047647476 ; accuracy =  0.7433\n",
            "Epoch  23 ; train loss =  0.4932813015989602 ; validation loss =  0.0057247500598430635 ; accuracy =  0.762\n",
            "Epoch  24 ; train loss =  0.4709228976085163 ; validation loss =  0.0058576419413089754 ; accuracy =  0.762\n",
            "Epoch  25 ; train loss =  0.44835975823311 ; validation loss =  0.005598856145143509 ; accuracy =  0.7722\n",
            "Epoch  26 ; train loss =  0.43110088375620187 ; validation loss =  0.005737700226902962 ; accuracy =  0.7732\n",
            "Epoch  27 ; train loss =  0.40983951087005605 ; validation loss =  0.005955882713198662 ; accuracy =  0.7634\n",
            "Epoch  28 ; train loss =  0.3881118700336724 ; validation loss =  0.00573616219162941 ; accuracy =  0.778\n",
            "Epoch  29 ; train loss =  0.36750214868269787 ; validation loss =  0.00554315148293972 ; accuracy =  0.7856\n",
            "Finished Training and save the model as `modelNN.pth`\n"
          ]
        }
      ]
    },
    {
      "cell_type": "code",
      "source": [
        "plt.plot()\n",
        "plt.plot(range(len(loss_list)), loss_list)\n",
        "\n",
        "plt.xlabel(\"Epochs\")\n",
        "plt.ylabel(\"Loss\")\n",
        "plt.title(\"loss curve\")\n",
        "plt.show()\n",
        "plt.plot()\n",
        "plt.plot(range(len(accuracy_list)), accuracy_list)\n",
        "\n",
        "plt.xlabel(\"Epochs\")\n",
        "plt.ylabel(\"Accuracy\")\n",
        "plt.title(\"accuracy curve\")\n",
        "\n",
        "\n",
        "\n",
        "\n",
        "\n",
        "plt.show()"
      ],
      "metadata": {
        "colab": {
          "base_uri": "https://localhost:8080/",
          "height": 573
        },
        "id": "VLyOZQNQVsV8",
        "outputId": "d0e7bda7-5f1e-41dc-cc8f-8c66f9b74bf8"
      },
      "execution_count": 46,
      "outputs": [
        {
          "output_type": "display_data",
          "data": {
            "image/png": "[encoded data removed]",
            "text/plain": [
              "<Figure size 432x288 with 1 Axes>"
            ]
          },
          "metadata": {
            "needs_background": "light"
          }
        },
        {
          "output_type": "display_data",
          "data": {
            "image/png": "[encoded data removed]",
            "text/plain": [
              "<Figure size 432x288 with 1 Axes>"
            ]
          },
          "metadata": {
            "needs_background": "light"
          }
        }
      ]
    },
    {
      "cell_type": "markdown",
      "source": [
        "### 50 epochs"
      ],
      "metadata": {
        "id": "ZzVzvUScgZU_"
      }
    },
    {
      "cell_type": "code",
      "source": [
        "net = CNN().to(device)\n",
        "optimizer = optim.SGD(net.parameters(), lr=0.1, momentum=0.9)\n",
        "lr_sched = torch.optim.lr_scheduler.ExponentialLR(optimizer, gamma=0.95)"
      ],
      "metadata": {
        "id": "XbuelvN2gZDc"
      },
      "execution_count": 57,
      "outputs": []
    },
    {
      "cell_type": "code",
      "source": [
        "\n",
        "loss_list, accuracy_list = train (net,50, optimizer)"
      ],
      "metadata": {
        "colab": {
          "base_uri": "https://localhost:8080/"
        },
        "id": "d3HB7YbKgjGs",
        "outputId": "720f8cec-622e-4ae9-e3fc-0892ff381265"
      },
      "execution_count": 58,
      "outputs": [
        {
          "output_type": "stream",
          "name": "stdout",
          "text": [
            "Epoch  0 ; train loss =  2.293025981123074 ; validation loss =  0.01823707525730133 ; accuracy =  0.1031\n",
            "Epoch  1 ; train loss =  2.3044800537462815 ; validation loss =  0.018195440888404846 ; accuracy =  0.0986\n",
            "Epoch  2 ; train loss =  2.3027750988737843 ; validation loss =  0.01820379259586334 ; accuracy =  0.1002\n",
            "Epoch  3 ; train loss =  2.2998708612240923 ; validation loss =  0.018370568227767944 ; accuracy =  0.1632\n",
            "Epoch  4 ; train loss =  2.0481394761667464 ; validation loss =  0.014913958132266997 ; accuracy =  0.2943\n",
            "Epoch  5 ; train loss =  1.700365558980753 ; validation loss =  0.013267987167835235 ; accuracy =  0.3877\n",
            "Epoch  6 ; train loss =  1.5078083947062872 ; validation loss =  0.011071419286727906 ; accuracy =  0.4902\n",
            "Epoch  7 ; train loss =  1.3913114672651687 ; validation loss =  0.010641502904891968 ; accuracy =  0.5042\n",
            "Epoch  8 ; train loss =  1.257682973584428 ; validation loss =  0.009259069061279298 ; accuracy =  0.578\n",
            "Epoch  9 ; train loss =  1.1720798960128151 ; validation loss =  0.009057989108562469 ; accuracy =  0.5872\n",
            "Epoch  10 ; train loss =  1.0902193281978083 ; validation loss =  0.008582763677835465 ; accuracy =  0.6156\n",
            "Epoch  11 ; train loss =  1.0227587362067005 ; validation loss =  0.008265233278274536 ; accuracy =  0.6393\n",
            "Epoch  12 ; train loss =  0.9580893139488781 ; validation loss =  0.007954780656099319 ; accuracy =  0.6421\n",
            "Epoch  13 ; train loss =  0.9000622856731232 ; validation loss =  0.0076368752479553225 ; accuracy =  0.6616\n",
            "Epoch  14 ; train loss =  0.8686942498143108 ; validation loss =  0.007572918695211411 ; accuracy =  0.6647\n",
            "Epoch  15 ; train loss =  0.8238685437665579 ; validation loss =  0.007090198194980622 ; accuracy =  0.6899\n",
            "Epoch  16 ; train loss =  0.778280751202434 ; validation loss =  0.006848267430067063 ; accuracy =  0.6985\n",
            "Epoch  17 ; train loss =  0.7420174369987208 ; validation loss =  0.006722674530744553 ; accuracy =  0.705\n",
            "Epoch  18 ; train loss =  0.711954165761844 ; validation loss =  0.006352115273475647 ; accuracy =  0.7208\n",
            "Epoch  19 ; train loss =  0.6766450968794168 ; validation loss =  0.006682134363055229 ; accuracy =  0.7078\n",
            "Epoch  20 ; train loss =  0.6438457742095375 ; validation loss =  0.0062510058164596555 ; accuracy =  0.7301\n",
            "Epoch  21 ; train loss =  0.6106883539749791 ; validation loss =  0.005977620470523835 ; accuracy =  0.7423\n",
            "Epoch  22 ; train loss =  0.5870892201749661 ; validation loss =  0.005956260851025581 ; accuracy =  0.7469\n",
            "Epoch  23 ; train loss =  0.5703534415354744 ; validation loss =  0.00602324732542038 ; accuracy =  0.7479\n",
            "Epoch  24 ; train loss =  0.539093650853672 ; validation loss =  0.005730483525991439 ; accuracy =  0.7554\n",
            "Epoch  25 ; train loss =  0.5127841462723364 ; validation loss =  0.00575671671628952 ; accuracy =  0.7555\n",
            "Epoch  26 ; train loss =  0.49075546422705485 ; validation loss =  0.005674302503466606 ; accuracy =  0.7626\n",
            "Epoch  27 ; train loss =  0.4739342794631617 ; validation loss =  0.005824277186393738 ; accuracy =  0.76\n",
            "Epoch  28 ; train loss =  0.45246650440433916 ; validation loss =  0.005429029941558838 ; accuracy =  0.7784\n",
            "Epoch  29 ; train loss =  0.4236778251279276 ; validation loss =  0.005618051755428314 ; accuracy =  0.7729\n",
            "Epoch  30 ; train loss =  0.4008355574866834 ; validation loss =  0.005666143393516541 ; accuracy =  0.7777\n",
            "Epoch  31 ; train loss =  0.3841299972119042 ; validation loss =  0.005535247680544853 ; accuracy =  0.7736\n",
            "Epoch  32 ; train loss =  0.3694418411666212 ; validation loss =  0.0056526824563741685 ; accuracy =  0.7818\n",
            "Epoch  33 ; train loss =  0.3496979299349526 ; validation loss =  0.005656046882271767 ; accuracy =  0.7783\n",
            "Epoch  34 ; train loss =  0.3308908637529745 ; validation loss =  0.005629079136252403 ; accuracy =  0.7845\n",
            "Epoch  35 ; train loss =  0.3179655938674086 ; validation loss =  0.005810692372173071 ; accuracy =  0.781\n",
            "Epoch  36 ; train loss =  0.2940390980281769 ; validation loss =  0.0061085832208395 ; accuracy =  0.7847\n",
            "Epoch  37 ; train loss =  0.28439720379658784 ; validation loss =  0.005787958338856697 ; accuracy =  0.7908\n",
            "Epoch  38 ; train loss =  0.26238653447014837 ; validation loss =  0.005852849072217941 ; accuracy =  0.7907\n",
            "Epoch  39 ; train loss =  0.25538662594918626 ; validation loss =  0.00599549668431282 ; accuracy =  0.7853\n",
            "Epoch  40 ; train loss =  0.24150221433026342 ; validation loss =  0.006091318839788437 ; accuracy =  0.7909\n",
            "Epoch  41 ; train loss =  0.22452055650968522 ; validation loss =  0.006327636134624481 ; accuracy =  0.79\n",
            "Epoch  42 ; train loss =  0.21226824370150368 ; validation loss =  0.0058903006225824355 ; accuracy =  0.7942\n",
            "Epoch  43 ; train loss =  0.20164156624208243 ; validation loss =  0.006300956210494041 ; accuracy =  0.7909\n",
            "Epoch  44 ; train loss =  0.19108254750506184 ; validation loss =  0.006255939072370529 ; accuracy =  0.7908\n",
            "Epoch  45 ; train loss =  0.18376331671643942 ; validation loss =  0.0065447893083095555 ; accuracy =  0.786\n",
            "Epoch  46 ; train loss =  0.17148929961716025 ; validation loss =  0.006363710963726044 ; accuracy =  0.7954\n",
            "Epoch  47 ; train loss =  0.15899545351822916 ; validation loss =  0.006328705382347107 ; accuracy =  0.7976\n",
            "Epoch  48 ; train loss =  0.1526741704430443 ; validation loss =  0.006468151175975799 ; accuracy =  0.7941\n",
            "Epoch  49 ; train loss =  0.1450556460708475 ; validation loss =  0.006568495905399323 ; accuracy =  0.7986\n",
            "Finished Training and save the model as `modelNN.pth`\n"
          ]
        }
      ]
    },
    {
      "cell_type": "code",
      "source": [
        "plt.plot()\n",
        "plt.plot(range(len(loss_list)), loss_list)\n",
        "\n",
        "plt.xlabel(\"Epochs\")\n",
        "plt.ylabel(\"Loss\")\n",
        "plt.title(\"loss curve\")\n",
        "plt.show()\n",
        "plt.plot()\n",
        "plt.plot(range(len(accuracy_list)), accuracy_list)\n",
        "\n",
        "plt.xlabel(\"Epochs\")\n",
        "plt.ylabel(\"Accuracy\")\n",
        "plt.title(\"accuracy curve\")\n",
        "\n",
        "\n",
        "\n",
        "\n",
        "\n",
        "plt.show()"
      ],
      "metadata": {
        "colab": {
          "base_uri": "https://localhost:8080/",
          "height": 573
        },
        "id": "xppmvJe-gl7Z",
        "outputId": "8a79b192-e6c1-4dde-d43a-46a9bbdd2a94"
      },
      "execution_count": 59,
      "outputs": [
        {
          "output_type": "display_data",
          "data": {
            "image/png": "[encoded data removed]",
            "text/plain": [
              "<Figure size 432x288 with 1 Axes>"
            ]
          },
          "metadata": {
            "needs_background": "light"
          }
        },
        {
          "output_type": "display_data",
          "data": {
            "image/png": "[encoded data removed]",
            "text/plain": [
              "<Figure size 432x288 with 1 Axes>"
            ]
          },
          "metadata": {
            "needs_background": "light"
          }
        }
      ]
    },
    {
      "cell_type": "markdown",
      "source": [
        "## Dropout"
      ],
      "metadata": {
        "id": "phJSgvroPold"
      }
    },
    {
      "cell_type": "code",
      "source": [
        "\n",
        "class CNN(nn.Module):\n",
        "   \n",
        "\n",
        "    def __init__(self):\n",
        "        \n",
        "        super(CNN, self).__init__()\n",
        "\n",
        "        self.conv_layer = nn.Sequential(\n",
        "\n",
        "            # Conv Layer block 1\n",
        "            nn.Conv2d(in_channels=3, out_channels=32, kernel_size=3, padding=1),\n",
        "       \n",
        "            nn.ReLU(inplace=True),\n",
        "            nn.Conv2d(in_channels=32, out_channels=64, kernel_size=3, padding=1),\n",
        "            nn.ReLU(inplace=True),\n",
        "            nn.MaxPool2d(kernel_size=2, stride=2),\n",
        "\n",
        "            # Conv Layer block 2\n",
        "            nn.Conv2d(in_channels=64, out_channels=128, kernel_size=3, padding=1),\n",
        "\n",
        "            nn.ReLU(inplace=True),\n",
        "            nn.Conv2d(in_channels=128, out_channels=128, kernel_size=3, padding=1),\n",
        "            nn.ReLU(inplace=True),\n",
        "            nn.MaxPool2d(kernel_size=2, stride=2),\n",
        "            nn.Dropout2d(p=0.05),\n",
        "\n",
        "            # Conv Layer block 3\n",
        "            nn.Conv2d(in_channels=128, out_channels=256, kernel_size=3, padding=1),\n",
        "\n",
        "            nn.ReLU(inplace=True),\n",
        "            nn.Conv2d(in_channels=256, out_channels=256, kernel_size=3, padding=1),\n",
        "            nn.ReLU(inplace=True),\n",
        "            nn.MaxPool2d(kernel_size=2, stride=2),\n",
        "        )\n",
        "\n",
        "\n",
        "        self.fc_layer = nn.Sequential(\n",
        "            nn.Dropout(p=0.1),\n",
        "            nn.Linear(4096, 1024),\n",
        "            nn.ReLU(inplace=True),\n",
        "            nn.Linear(1024, 512),\n",
        "            nn.ReLU(inplace=True),\n",
        "            nn.Dropout(p=0.1),\n",
        "            nn.Linear(512, 10)\n",
        "        )\n",
        "\n",
        "\n",
        "    def forward(self, x):\n",
        "        \"\"\"Perform forward.\"\"\"\n",
        "        \n",
        "        # conv layers\n",
        "        x = self.conv_layer(x)\n",
        "        \n",
        "        # flatten\n",
        "        x = x.view(x.size(0), -1)\n",
        "        \n",
        "        # fc layer\n",
        "        x = self.fc_layer(x)\n",
        "\n",
        "        return x"
      ],
      "metadata": {
        "id": "AhxmmtnHU5_i"
      },
      "execution_count": 60,
      "outputs": []
    },
    {
      "cell_type": "code",
      "source": [
        "net = CNN().to(device)\n",
        "optimizer = optim.SGD(net.parameters(), lr=0.1, momentum=0.9)\n",
        "lr_sched = torch.optim.lr_scheduler.ExponentialLR(optimizer, gamma=0.95)"
      ],
      "metadata": {
        "id": "3Ek2J0gXdVWM"
      },
      "execution_count": 61,
      "outputs": []
    },
    {
      "cell_type": "code",
      "source": [
        "\n",
        "loss_list, accuracy_list = train (net,50, optimizer)"
      ],
      "metadata": {
        "colab": {
          "base_uri": "https://localhost:8080/"
        },
        "id": "GD2uh9HHdYki",
        "outputId": "cd69c978-a60e-4cd7-85ce-f669a6ba79dd"
      },
      "execution_count": 62,
      "outputs": [
        {
          "output_type": "stream",
          "name": "stdout",
          "text": [
            "Epoch  0 ; train loss =  2.0978961124206883 ; validation loss =  0.015345198023319245 ; accuracy =  0.2735\n",
            "Epoch  1 ; train loss =  1.7531562620839372 ; validation loss =  0.013394860458374024 ; accuracy =  0.3779\n",
            "Epoch  2 ; train loss =  1.5303960044543965 ; validation loss =  0.01126498898267746 ; accuracy =  0.4709\n",
            "Epoch  3 ; train loss =  1.392270677005902 ; validation loss =  0.01104050236940384 ; accuracy =  0.4941\n",
            "Epoch  4 ; train loss =  1.2798941318219461 ; validation loss =  0.00993432331085205 ; accuracy =  0.5503\n",
            "Epoch  5 ; train loss =  1.1802610446469852 ; validation loss =  0.009649591469764709 ; accuracy =  0.5605\n",
            "Epoch  6 ; train loss =  1.10629950925565 ; validation loss =  0.009076762217283249 ; accuracy =  0.598\n",
            "Epoch  7 ; train loss =  1.0319719164135357 ; validation loss =  0.008624057739973068 ; accuracy =  0.6199\n",
            "Epoch  8 ; train loss =  0.9733938498618885 ; validation loss =  0.008181653589010239 ; accuracy =  0.6369\n",
            "Epoch  9 ; train loss =  0.9294398048053534 ; validation loss =  0.007706638914346695 ; accuracy =  0.6668\n",
            "Epoch  10 ; train loss =  0.8875006408737109 ; validation loss =  0.007483107334375382 ; accuracy =  0.6703\n",
            "Epoch  11 ; train loss =  0.8429139667806534 ; validation loss =  0.0071827035546302796 ; accuracy =  0.6888\n",
            "Epoch  12 ; train loss =  0.8082874175458671 ; validation loss =  0.006964810413122177 ; accuracy =  0.7016\n",
            "Epoch  13 ; train loss =  0.7689033175428835 ; validation loss =  0.006693661803007126 ; accuracy =  0.7066\n",
            "Epoch  14 ; train loss =  0.7453833622292588 ; validation loss =  0.006715379038453102 ; accuracy =  0.7104\n",
            "Epoch  15 ; train loss =  0.7217000254426902 ; validation loss =  0.0064491058886051176 ; accuracy =  0.7217\n",
            "Epoch  16 ; train loss =  0.6909502303828827 ; validation loss =  0.006311824527382851 ; accuracy =  0.7275\n",
            "Epoch  17 ; train loss =  0.6680203980912035 ; validation loss =  0.006349222594499588 ; accuracy =  0.7276\n",
            "Epoch  18 ; train loss =  0.6365240561885955 ; validation loss =  0.0063289664387702945 ; accuracy =  0.7285\n",
            "Epoch  19 ; train loss =  0.6177067391979046 ; validation loss =  0.006039201810956001 ; accuracy =  0.7386\n",
            "Epoch  20 ; train loss =  0.5897432200063151 ; validation loss =  0.006034795314073562 ; accuracy =  0.7391\n",
            "Epoch  21 ; train loss =  0.5649097444721685 ; validation loss =  0.006000967425107956 ; accuracy =  0.7458\n",
            "Epoch  22 ; train loss =  0.5376426672783142 ; validation loss =  0.005808806854486466 ; accuracy =  0.7642\n",
            "Epoch  23 ; train loss =  0.5199893494954886 ; validation loss =  0.0059242400258779524 ; accuracy =  0.7571\n",
            "Epoch  24 ; train loss =  0.49459905546313276 ; validation loss =  0.005729561665654182 ; accuracy =  0.7596\n",
            "Epoch  25 ; train loss =  0.4758888785831464 ; validation loss =  0.005727660608291626 ; accuracy =  0.7676\n",
            "Epoch  26 ; train loss =  0.46005995976277436 ; validation loss =  0.005557005992531777 ; accuracy =  0.7723\n",
            "Epoch  27 ; train loss =  0.44629207243934604 ; validation loss =  0.00553294304907322 ; accuracy =  0.7644\n",
            "Epoch  28 ; train loss =  0.42116907124702163 ; validation loss =  0.005840264585614204 ; accuracy =  0.7665\n",
            "Epoch  29 ; train loss =  0.41000591513638296 ; validation loss =  0.005594798478484154 ; accuracy =  0.7777\n",
            "Epoch  30 ; train loss =  0.3923634908165033 ; validation loss =  0.005465966048836708 ; accuracy =  0.7867\n",
            "Epoch  31 ; train loss =  0.3728312283944779 ; validation loss =  0.00549268861413002 ; accuracy =  0.782\n",
            "Epoch  32 ; train loss =  0.36226606921266064 ; validation loss =  0.00557953060567379 ; accuracy =  0.7846\n",
            "Epoch  33 ; train loss =  0.3481024382308649 ; validation loss =  0.005396645718812943 ; accuracy =  0.7882\n",
            "Epoch  34 ; train loss =  0.33257076891656884 ; validation loss =  0.005368376296758652 ; accuracy =  0.7922\n",
            "Epoch  35 ; train loss =  0.3210408411943874 ; validation loss =  0.005370759195089341 ; accuracy =  0.7941\n",
            "Epoch  36 ; train loss =  0.29968479213813626 ; validation loss =  0.005659368339180946 ; accuracy =  0.7896\n",
            "Epoch  37 ; train loss =  0.2916538935309401 ; validation loss =  0.00546763005554676 ; accuracy =  0.799\n",
            "Epoch  38 ; train loss =  0.2793234718588594 ; validation loss =  0.005346205785870552 ; accuracy =  0.7945\n",
            "Epoch  39 ; train loss =  0.26626928998068117 ; validation loss =  0.005628259819746018 ; accuracy =  0.7949\n",
            "Epoch  40 ; train loss =  0.2563804350436305 ; validation loss =  0.005598139089345932 ; accuracy =  0.8019\n",
            "Epoch  41 ; train loss =  0.24773825966892912 ; validation loss =  0.005741837841272354 ; accuracy =  0.7949\n",
            "Epoch  42 ; train loss =  0.23819891234841972 ; validation loss =  0.0057912895143032075 ; accuracy =  0.7993\n",
            "Epoch  43 ; train loss =  0.226157465800881 ; validation loss =  0.0057208432644605635 ; accuracy =  0.7971\n",
            "Epoch  44 ; train loss =  0.22070028518621151 ; validation loss =  0.005675662714242935 ; accuracy =  0.8043\n",
            "Epoch  45 ; train loss =  0.2092157099336481 ; validation loss =  0.005684640112519264 ; accuracy =  0.804\n",
            "Epoch  46 ; train loss =  0.20232343171446468 ; validation loss =  0.005753248330950737 ; accuracy =  0.8018\n",
            "Epoch  47 ; train loss =  0.19309963428745636 ; validation loss =  0.005885014417767525 ; accuracy =  0.8029\n",
            "Epoch  48 ; train loss =  0.1850312941918929 ; validation loss =  0.006044011100381613 ; accuracy =  0.8021\n",
            "Epoch  49 ; train loss =  0.18015162724132736 ; validation loss =  0.0059814808219671245 ; accuracy =  0.8011\n",
            "Finished Training and save the model as `modelNN.pth`\n"
          ]
        }
      ]
    },
    {
      "cell_type": "code",
      "source": [
        "plt.plot()\n",
        "plt.plot(range(len(loss_list)), loss_list)\n",
        "\n",
        "plt.xlabel(\"Epochs\")\n",
        "plt.ylabel(\"Loss\")\n",
        "plt.title(\"loss curve\")\n",
        "plt.show()\n",
        "plt.plot()\n",
        "plt.plot(range(len(accuracy_list)), accuracy_list)\n",
        "\n",
        "plt.xlabel(\"Epochs\")\n",
        "plt.ylabel(\"Accuracy\")\n",
        "plt.title(\"accuracy curve\")\n",
        "\n",
        "\n",
        "\n",
        "\n",
        "\n",
        "plt.show()"
      ],
      "metadata": {
        "colab": {
          "base_uri": "https://localhost:8080/",
          "height": 573
        },
        "id": "c9s__PKQdZ0U",
        "outputId": "0830f5cf-10f1-48c0-9fac-f7b6c3a33fdf"
      },
      "execution_count": 63,
      "outputs": [
        {
          "output_type": "display_data",
          "data": {
            "image/png": "[encoded data removed]",
            "text/plain": [
              "<Figure size 432x288 with 1 Axes>"
            ]
          },
          "metadata": {
            "needs_background": "light"
          }
        },
        {
          "output_type": "display_data",
          "data": {
            "image/png": "[encoded data removed]",
            "text/plain": [
              "<Figure size 432x288 with 1 Axes>"
            ]
          },
          "metadata": {
            "needs_background": "light"
          }
        }
      ]
    },
    {
      "cell_type": "markdown",
      "source": [
        "## Batch normalization"
      ],
      "metadata": {
        "id": "iKRL0uD_PxTs"
      }
    },
    {
      "cell_type": "code",
      "source": [
        "class CNN(nn.Module):\n",
        "   \n",
        "\n",
        "    def __init__(self):\n",
        "        \n",
        "        super(CNN, self).__init__()\n",
        "\n",
        "        self.conv_layer = nn.Sequential(\n",
        "\n",
        "            # Conv Layer block 1\n",
        "            nn.Conv2d(in_channels=3, out_channels=32, kernel_size=3, padding=1),\n",
        "            nn.BatchNorm2d(32),\n",
        "            nn.ReLU(inplace=True),\n",
        "            nn.Conv2d(in_channels=32, out_channels=64, kernel_size=3, padding=1),\n",
        "            nn.ReLU(inplace=True),\n",
        "            nn.MaxPool2d(kernel_size=2, stride=2),\n",
        "\n",
        "            # Conv Layer block 2\n",
        "            nn.Conv2d(in_channels=64, out_channels=128, kernel_size=3, padding=1),\n",
        "            nn.BatchNorm2d(128),\n",
        "            nn.ReLU(inplace=True),\n",
        "            nn.Conv2d(in_channels=128, out_channels=128, kernel_size=3, padding=1),\n",
        "            nn.ReLU(inplace=True),\n",
        "            nn.MaxPool2d(kernel_size=2, stride=2),\n",
        "            nn.Dropout2d(p=0.05),\n",
        "\n",
        "            # Conv Layer block 3\n",
        "            nn.Conv2d(in_channels=128, out_channels=256, kernel_size=3, padding=1),\n",
        "            nn.BatchNorm2d(256),\n",
        "            nn.ReLU(inplace=True),\n",
        "            nn.Conv2d(in_channels=256, out_channels=256, kernel_size=3, padding=1),\n",
        "            nn.ReLU(inplace=True),\n",
        "            nn.MaxPool2d(kernel_size=2, stride=2),\n",
        "        )\n",
        "\n",
        "\n",
        "        self.fc_layer = nn.Sequential(\n",
        "            nn.Dropout(p=0.1),\n",
        "            nn.Linear(4096, 1024),\n",
        "            nn.ReLU(inplace=True),\n",
        "            nn.Linear(1024, 512),\n",
        "            nn.ReLU(inplace=True),\n",
        "            nn.Dropout(p=0.1),\n",
        "            nn.Linear(512, 10)\n",
        "        )\n",
        "\n",
        "\n",
        "    def forward(self, x):\n",
        "        \"\"\"Perform forward.\"\"\"\n",
        "        \n",
        "        # conv layers\n",
        "        x = self.conv_layer(x)\n",
        "        \n",
        "        # flatten\n",
        "        x = x.view(x.size(0), -1)\n",
        "        \n",
        "        # fc layer\n",
        "        x = self.fc_layer(x)\n",
        "\n",
        "        return x"
      ],
      "metadata": {
        "id": "JmedrvD9Piiy"
      },
      "execution_count": 64,
      "outputs": []
    },
    {
      "cell_type": "code",
      "source": [
        "net = CNN().to(device)\n",
        "optimizer = optim.SGD(net.parameters(), lr=0.1, momentum=0.9)\n",
        "lr_sched = torch.optim.lr_scheduler.ExponentialLR(optimizer, gamma=0.95)"
      ],
      "metadata": {
        "id": "0mJsEhEbdgpT"
      },
      "execution_count": 65,
      "outputs": []
    },
    {
      "cell_type": "code",
      "source": [
        "\n",
        "loss_list, accuracy_list = train (net,50, optimizer)"
      ],
      "metadata": {
        "colab": {
          "base_uri": "https://localhost:8080/"
        },
        "id": "ONjnCFR2djLj",
        "outputId": "5c0435b5-6a46-4928-c303-35dd213082b7"
      },
      "execution_count": 66,
      "outputs": [
        {
          "output_type": "stream",
          "name": "stdout",
          "text": [
            "Epoch  0 ; train loss =  1.8126367201058629 ; validation loss =  0.013401284277439118 ; accuracy =  0.4008\n",
            "Epoch  1 ; train loss =  1.5112270912804162 ; validation loss =  0.011264520013332367 ; accuracy =  0.4805\n",
            "Epoch  2 ; train loss =  1.32567853363939 ; validation loss =  0.010823408871889114 ; accuracy =  0.5091\n",
            "Epoch  3 ; train loss =  1.188326049726992 ; validation loss =  0.008883754211664199 ; accuracy =  0.5994\n",
            "Epoch  4 ; train loss =  1.0772943753784838 ; validation loss =  0.008651022392511368 ; accuracy =  0.614\n",
            "Epoch  5 ; train loss =  0.9814492704007572 ; validation loss =  0.007961132490634917 ; accuracy =  0.6494\n",
            "Epoch  6 ; train loss =  0.9154623769723569 ; validation loss =  0.007371796798706054 ; accuracy =  0.6674\n",
            "Epoch  7 ; train loss =  0.8545402537900418 ; validation loss =  0.007238350331783295 ; accuracy =  0.6833\n",
            "Epoch  8 ; train loss =  0.7983686556450476 ; validation loss =  0.0068019107401371005 ; accuracy =  0.6961\n",
            "Epoch  9 ; train loss =  0.749137103938447 ; validation loss =  0.006545691120624543 ; accuracy =  0.7175\n",
            "Epoch  10 ; train loss =  0.7115121756117946 ; validation loss =  0.006357073926925659 ; accuracy =  0.72\n",
            "Epoch  11 ; train loss =  0.6729422466823468 ; validation loss =  0.006039144229888916 ; accuracy =  0.7354\n",
            "Epoch  12 ; train loss =  0.6461167656385098 ; validation loss =  0.005806333690881729 ; accuracy =  0.745\n",
            "Epoch  13 ; train loss =  0.6097489166945315 ; validation loss =  0.005752842837572098 ; accuracy =  0.7521\n",
            "Epoch  14 ; train loss =  0.5879397636975724 ; validation loss =  0.005525152775645256 ; accuracy =  0.7585\n",
            "Epoch  15 ; train loss =  0.5604398995161818 ; validation loss =  0.005475974828004837 ; accuracy =  0.7606\n",
            "Epoch  16 ; train loss =  0.5406483882151473 ; validation loss =  0.005551093137264252 ; accuracy =  0.7612\n",
            "Epoch  17 ; train loss =  0.5152285550349056 ; validation loss =  0.005517488172650337 ; accuracy =  0.764\n",
            "Epoch  18 ; train loss =  0.49505769263822047 ; validation loss =  0.005060872980952263 ; accuracy =  0.7853\n",
            "Epoch  19 ; train loss =  0.47245128400409564 ; validation loss =  0.005132630404829979 ; accuracy =  0.7799\n",
            "Epoch  20 ; train loss =  0.4542002131858954 ; validation loss =  0.004972017216682434 ; accuracy =  0.7923\n",
            "Epoch  21 ; train loss =  0.4425708048355084 ; validation loss =  0.005114590154588223 ; accuracy =  0.7811\n",
            "Epoch  22 ; train loss =  0.41540557655473104 ; validation loss =  0.00514150401353836 ; accuracy =  0.7832\n",
            "Epoch  23 ; train loss =  0.40516158966972426 ; validation loss =  0.004926213109493255 ; accuracy =  0.793\n",
            "Epoch  24 ; train loss =  0.3946133122181359 ; validation loss =  0.00493853329718113 ; accuracy =  0.799\n",
            "Epoch  25 ; train loss =  0.37208752129405454 ; validation loss =  0.004864217537641526 ; accuracy =  0.7994\n",
            "Epoch  26 ; train loss =  0.35698904863561687 ; validation loss =  0.0048824267268180845 ; accuracy =  0.7976\n",
            "Epoch  27 ; train loss =  0.34755765734770044 ; validation loss =  0.004938983562588692 ; accuracy =  0.8008\n",
            "Epoch  28 ; train loss =  0.33614475872760385 ; validation loss =  0.004857376578450203 ; accuracy =  0.803\n",
            "Epoch  29 ; train loss =  0.32477007358790205 ; validation loss =  0.004900353753566742 ; accuracy =  0.7982\n",
            "Epoch  30 ; train loss =  0.31433783204982074 ; validation loss =  0.004918676298856735 ; accuracy =  0.8043\n",
            "Epoch  31 ; train loss =  0.3043988270881458 ; validation loss =  0.004909584593772888 ; accuracy =  0.8047\n",
            "Epoch  32 ; train loss =  0.2931496533818138 ; validation loss =  0.004908765533566475 ; accuracy =  0.8069\n",
            "Epoch  33 ; train loss =  0.2827143975482962 ; validation loss =  0.004873910421133041 ; accuracy =  0.8063\n",
            "Epoch  34 ; train loss =  0.27041353825658276 ; validation loss =  0.004863767009973526 ; accuracy =  0.8056\n",
            "Epoch  35 ; train loss =  0.266318571691315 ; validation loss =  0.004978670910000801 ; accuracy =  0.8084\n",
            "Epoch  36 ; train loss =  0.2566880717302283 ; validation loss =  0.004773331862688065 ; accuracy =  0.8113\n",
            "Epoch  37 ; train loss =  0.24503632373036668 ; validation loss =  0.004892758005857468 ; accuracy =  0.8152\n",
            "Epoch  38 ; train loss =  0.23399731928643328 ; validation loss =  0.004948835349082947 ; accuracy =  0.8114\n",
            "Epoch  39 ; train loss =  0.229216043417827 ; validation loss =  0.0048308291986584664 ; accuracy =  0.8119\n",
            "Epoch  40 ; train loss =  0.22756041998204332 ; validation loss =  0.004961224982142448 ; accuracy =  0.8155\n",
            "Epoch  41 ; train loss =  0.2163298696565171 ; validation loss =  0.004951633298397064 ; accuracy =  0.8185\n",
            "Epoch  42 ; train loss =  0.2098576430314646 ; validation loss =  0.005098823755979538 ; accuracy =  0.8142\n",
            "Epoch  43 ; train loss =  0.2020392422668469 ; validation loss =  0.005078597378730774 ; accuracy =  0.8157\n",
            "Epoch  44 ; train loss =  0.1961177585366816 ; validation loss =  0.005209828269481659 ; accuracy =  0.8149\n",
            "Epoch  45 ; train loss =  0.19155007198500557 ; validation loss =  0.00503278163075447 ; accuracy =  0.8168\n",
            "Epoch  46 ; train loss =  0.1851633153498744 ; validation loss =  0.00507394787967205 ; accuracy =  0.8167\n",
            "Epoch  47 ; train loss =  0.18493653721988393 ; validation loss =  0.005127852639555931 ; accuracy =  0.8153\n",
            "Epoch  48 ; train loss =  0.17314797325637013 ; validation loss =  0.005220568493008613 ; accuracy =  0.8192\n",
            "Epoch  49 ; train loss =  0.17403537957384563 ; validation loss =  0.0051694458395242695 ; accuracy =  0.8167\n",
            "Finished Training and save the model as `modelNN.pth`\n"
          ]
        }
      ]
    },
    {
      "cell_type": "code",
      "source": [
        "plt.plot()\n",
        "plt.plot(range(len(loss_list)), loss_list)\n",
        "\n",
        "plt.xlabel(\"Epochs\")\n",
        "plt.ylabel(\"Loss\")\n",
        "plt.title(\"loss curve\")\n",
        "plt.show()\n",
        "plt.plot()\n",
        "plt.plot(range(len(accuracy_list)), accuracy_list)\n",
        "\n",
        "plt.xlabel(\"Epochs\")\n",
        "plt.ylabel(\"Accuracy\")\n",
        "plt.title(\"accuracy curve\")\n",
        "\n",
        "\n",
        "\n",
        "\n",
        "\n",
        "plt.show()"
      ],
      "metadata": {
        "colab": {
          "base_uri": "https://localhost:8080/",
          "height": 573
        },
        "id": "bhvaIQMkdlzo",
        "outputId": "129d0017-ff75-4619-ec1a-53a31b01bca8"
      },
      "execution_count": 67,
      "outputs": [
        {
          "output_type": "display_data",
          "data": {
            "image/png": "[encoded data removed]",
            "text/plain": [
              "<Figure size 432x288 with 1 Axes>"
            ]
          },
          "metadata": {
            "needs_background": "light"
          }
        },
        {
          "output_type": "display_data",
          "data": {
            "image/png": "[encoded data removed]",
            "text/plain": [
              "<Figure size 432x288 with 1 Axes>"
            ]
          },
          "metadata": {
            "needs_background": "light"
          }
        }
      ]
    },
    {
      "cell_type": "markdown",
      "source": [
        "# BONUS : ResNet50"
      ],
      "metadata": {
        "id": "htwlWVMjUgc5"
      }
    },
    {
      "cell_type": "code",
      "execution_count": null,
      "metadata": {
        "id": "CvrXnBmXiuaS"
      },
      "outputs": [],
      "source": [
        "resnet = models.resnet50(pretrained=True)\n"
      ]
    },
    {
      "cell_type": "code",
      "execution_count": null,
      "metadata": {
        "colab": {
          "base_uri": "https://localhost:8080/"
        },
        "id": "RqE3qhlGMyRy",
        "outputId": "1fdf21f7-f6bb-4680-ba67-48eaa8db167b"
      },
      "outputs": [
        {
          "name": "stdout",
          "output_type": "stream",
          "text": [
            "Epoch  0 ; train loss =  0.928453075915575 ; validation loss =  0.05386527907550335 ; accuracy =  0.715\n",
            "Epoch  1 ; train loss =  0.6842121284425259 ; validation loss =  0.043762910722196104 ; accuracy =  0.7922\n",
            "Epoch  2 ; train loss =  0.47533747600913046 ; validation loss =  0.04152848421707749 ; accuracy =  0.799\n",
            "Epoch  3 ; train loss =  0.35661333066523077 ; validation loss =  0.03489414740838111 ; accuracy =  0.8161\n",
            "Epoch  4 ; train loss =  0.2518428439222276 ; validation loss =  0.04200234291553497 ; accuracy =  0.8127\n",
            "Epoch  5 ; train loss =  0.19200321594458072 ; validation loss =  0.035731744547188284 ; accuracy =  0.8306\n",
            "Epoch  6 ; train loss =  0.15675224102041685 ; validation loss =  0.03690798887065612 ; accuracy =  0.8309\n",
            "Epoch  7 ; train loss =  0.12905469895871355 ; validation loss =  0.05723357162903994 ; accuracy =  0.8064\n",
            "Epoch  8 ; train loss =  0.11824885369255207 ; validation loss =  0.04406602121721953 ; accuracy =  0.8177\n",
            "Epoch  9 ; train loss =  0.3028254352848744 ; validation loss =  0.048843805362284186 ; accuracy =  0.7942\n",
            "Epoch  10 ; train loss =  0.22930633146949111 ; validation loss =  0.03854582112785429 ; accuracy =  0.8171\n",
            "Epoch  11 ; train loss =  0.12053056924031116 ; validation loss =  0.04837684951056726 ; accuracy =  0.8159\n",
            "Epoch  12 ; train loss =  0.1632274860632373 ; validation loss =  0.04317863528435119 ; accuracy =  0.8133\n",
            "Epoch  13 ; train loss =  0.1300890697634779 ; validation loss =  0.046878809804283085 ; accuracy =  0.8196\n",
            "Epoch  14 ; train loss =  0.08565256535094232 ; validation loss =  0.04206880319686607 ; accuracy =  0.8329\n",
            "Epoch  15 ; train loss =  0.05740844909778098 ; validation loss =  0.04092102108905674 ; accuracy =  0.8431\n",
            "Epoch  16 ; train loss =  0.03442486560513789 ; validation loss =  0.04597832545069978 ; accuracy =  0.8336\n",
            "Epoch  17 ; train loss =  0.029607832199336555 ; validation loss =  0.04453886938681826 ; accuracy =  0.8376\n",
            "Epoch  18 ; train loss =  0.027556179934042302 ; validation loss =  0.04845403209779761 ; accuracy =  0.8302\n",
            "Epoch  19 ; train loss =  0.02189049274295394 ; validation loss =  0.05389363195992191 ; accuracy =  0.8279\n",
            "Epoch  20 ; train loss =  0.021438586949682214 ; validation loss =  0.04733968019266613 ; accuracy =  0.838\n",
            "Epoch  21 ; train loss =  0.02133254656117788 ; validation loss =  0.0857253532147035 ; accuracy =  0.8097\n",
            "Epoch  22 ; train loss =  0.021813947993965122 ; validation loss =  0.04779393301109085 ; accuracy =  0.8404\n",
            "Epoch  23 ; train loss =  0.018708890997555135 ; validation loss =  0.07235322745693848 ; accuracy =  0.8159\n",
            "Epoch  24 ; train loss =  0.01392826257550405 ; validation loss =  0.048432980173733084 ; accuracy =  0.8408\n",
            "Epoch  25 ; train loss =  0.02318070383238737 ; validation loss =  0.05686468084269436 ; accuracy =  0.8214\n",
            "Epoch  26 ; train loss =  0.014934479900799123 ; validation loss =  0.04904748618174344 ; accuracy =  0.8423\n",
            "Epoch  27 ; train loss =  0.015671935898934317 ; validation loss =  0.05688254134687013 ; accuracy =  0.8279\n",
            "Epoch  28 ; train loss =  0.013606140139120907 ; validation loss =  0.05169469005636638 ; accuracy =  0.8385\n",
            "Epoch  29 ; train loss =  0.014405535203278851 ; validation loss =  0.04969687241137726 ; accuracy =  0.8388\n",
            "Finished Training and save the model as `modelNN.pth`\n"
          ]
        }
      ],
      "source": [
        "loss_list, accuracy_list = train_finetune(resnet,30)\n"
      ]
    },
    {
      "cell_type": "code",
      "execution_count": null,
      "metadata": {
        "colab": {
          "base_uri": "https://localhost:8080/",
          "height": 573
        },
        "id": "rpQxkX8O3P1V",
        "outputId": "8297bccc-3613-4828-e451-9aa9edfb577a"
      },
      "outputs": [
        {
          "data": {
            "image/png": "[encoded data removed]",
            "text/plain": [
              "<Figure size 432x288 with 1 Axes>"
            ]
          },
          "metadata": {},
          "output_type": "display_data"
        },
        {
          "data": {
            "image/png": "[encoded data removed]",
            "text/plain": [
              "<Figure size 432x288 with 1 Axes>"
            ]
          },
          "metadata": {},
          "output_type": "display_data"
        }
      ],
      "source": [
        "plt.plot()\n",
        "plt.plot(range(len(loss_list)), loss_list)\n",
        "\n",
        "plt.xlabel(\"Epochs\")\n",
        "plt.ylabel(\"Loss\")\n",
        "plt.title(\"loss curve\")\n",
        "plt.show()\n",
        "plt.plot()\n",
        "plt.plot(range(len(accuracy_list)), accuracy_list)\n",
        "\n",
        "plt.xlabel(\"Epochs\")\n",
        "plt.ylabel(\"Accuracy\")\n",
        "plt.title(\"accuracy curve\")\n",
        "\n",
        "\n",
        "\n",
        "\n",
        "\n",
        "plt.show()"
      ]
    }
  ],
  "metadata": {
    "accelerator": "GPU",
    "colab": {
      "collapsed_sections": [],
      "machine_shape": "hm",
      "name": "Image classification.ipynb",
      "toc_visible": true,
      "provenance": []
    },
    "kernelspec": {
      "display_name": "Python 3",
      "name": "python3"
    },
    "language_info": {
      "name": "python"
    }
  },
  "nbformat": 4,
  "nbformat_minor": 0
}